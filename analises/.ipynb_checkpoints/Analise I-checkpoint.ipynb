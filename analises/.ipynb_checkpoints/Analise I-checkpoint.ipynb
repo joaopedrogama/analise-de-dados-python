{
 "cells": [
  {
   "cell_type": "markdown",
   "id": "7af22ce6",
   "metadata": {},
   "source": [
    "# Análise I"
   ]
  },
  {
   "cell_type": "code",
   "execution_count": 249,
   "id": "70dca9c1",
   "metadata": {},
   "outputs": [],
   "source": [
    "import pandas as pd\n",
    "from pandas.plotting import autocorrelation_plot\n",
    "import plotly.express as px"
   ]
  },
  {
   "cell_type": "code",
   "execution_count": 2,
   "id": "88bebd13",
   "metadata": {},
   "outputs": [],
   "source": [
    "df_vendas = pd.read_excel('../DataSet/DataSetNovo.xlsx')"
   ]
  },
  {
   "cell_type": "markdown",
   "id": "cedb406e",
   "metadata": {},
   "source": [
    "## Pedidos por país"
   ]
  },
  {
   "cell_type": "markdown",
   "id": "e6c03dd7",
   "metadata": {},
   "source": [
    "#### No gráfico abaixo podemos ver que o reino unido foi o páis que mais se destacou em relação a quantidade de vendas durante o final de 2010 até o final de 2011"
   ]
  },
  {
   "cell_type": "code",
   "execution_count": 185,
   "id": "54b1b497",
   "metadata": {
    "scrolled": true
   },
   "outputs": [
    {
     "data": {
      "application/vnd.plotly.v1+json": {
       "config": {
        "plotlyServerURL": "https://plot.ly"
       },
       "data": [
        {
         "domain": {
          "x": [
           0,
           1
          ],
          "y": [
           0,
           1
          ]
         },
         "hole": 0.5,
         "hovertemplate": "Country=%{label}<br>BillNo=%{value}<extra></extra>",
         "labels": [
          "Australia",
          "Austria",
          "Bahrain",
          "Belgium",
          "Brazil",
          "France",
          "Germany",
          "Greece",
          "Iceland",
          "Israel",
          "Italy",
          "Japan",
          "Lebanon",
          "Lithuania",
          "Malta",
          "Netherlands",
          "Norway",
          "Poland",
          "Portugal",
          "RSA",
          "Saudi Arabia",
          "Singapore",
          "Spain",
          "Sweden",
          "Switzerland",
          "USA",
          "United Arab Emirates",
          "United Kingdom"
         ],
         "legendgroup": "",
         "name": "",
         "showlegend": true,
         "type": "pie",
         "values": [
          1185,
          398,
          17,
          2031,
          32,
          8342,
          9042,
          145,
          182,
          248,
          758,
          321,
          45,
          35,
          112,
          2363,
          1072,
          330,
          1462,
          58,
          9,
          222,
          2485,
          451,
          1842,
          179,
          68,
          354345
         ]
        }
       ],
       "layout": {
        "height": 800,
        "legend": {
         "tracegroupgap": 0
        },
        "margin": {
         "t": 60
        },
        "template": {
         "data": {
          "bar": [
           {
            "error_x": {
             "color": "#2a3f5f"
            },
            "error_y": {
             "color": "#2a3f5f"
            },
            "marker": {
             "line": {
              "color": "#E5ECF6",
              "width": 0.5
             },
             "pattern": {
              "fillmode": "overlay",
              "size": 10,
              "solidity": 0.2
             }
            },
            "type": "bar"
           }
          ],
          "barpolar": [
           {
            "marker": {
             "line": {
              "color": "#E5ECF6",
              "width": 0.5
             },
             "pattern": {
              "fillmode": "overlay",
              "size": 10,
              "solidity": 0.2
             }
            },
            "type": "barpolar"
           }
          ],
          "carpet": [
           {
            "aaxis": {
             "endlinecolor": "#2a3f5f",
             "gridcolor": "white",
             "linecolor": "white",
             "minorgridcolor": "white",
             "startlinecolor": "#2a3f5f"
            },
            "baxis": {
             "endlinecolor": "#2a3f5f",
             "gridcolor": "white",
             "linecolor": "white",
             "minorgridcolor": "white",
             "startlinecolor": "#2a3f5f"
            },
            "type": "carpet"
           }
          ],
          "choropleth": [
           {
            "colorbar": {
             "outlinewidth": 0,
             "ticks": ""
            },
            "type": "choropleth"
           }
          ],
          "contour": [
           {
            "colorbar": {
             "outlinewidth": 0,
             "ticks": ""
            },
            "colorscale": [
             [
              0,
              "#0d0887"
             ],
             [
              0.1111111111111111,
              "#46039f"
             ],
             [
              0.2222222222222222,
              "#7201a8"
             ],
             [
              0.3333333333333333,
              "#9c179e"
             ],
             [
              0.4444444444444444,
              "#bd3786"
             ],
             [
              0.5555555555555556,
              "#d8576b"
             ],
             [
              0.6666666666666666,
              "#ed7953"
             ],
             [
              0.7777777777777778,
              "#fb9f3a"
             ],
             [
              0.8888888888888888,
              "#fdca26"
             ],
             [
              1,
              "#f0f921"
             ]
            ],
            "type": "contour"
           }
          ],
          "contourcarpet": [
           {
            "colorbar": {
             "outlinewidth": 0,
             "ticks": ""
            },
            "type": "contourcarpet"
           }
          ],
          "heatmap": [
           {
            "colorbar": {
             "outlinewidth": 0,
             "ticks": ""
            },
            "colorscale": [
             [
              0,
              "#0d0887"
             ],
             [
              0.1111111111111111,
              "#46039f"
             ],
             [
              0.2222222222222222,
              "#7201a8"
             ],
             [
              0.3333333333333333,
              "#9c179e"
             ],
             [
              0.4444444444444444,
              "#bd3786"
             ],
             [
              0.5555555555555556,
              "#d8576b"
             ],
             [
              0.6666666666666666,
              "#ed7953"
             ],
             [
              0.7777777777777778,
              "#fb9f3a"
             ],
             [
              0.8888888888888888,
              "#fdca26"
             ],
             [
              1,
              "#f0f921"
             ]
            ],
            "type": "heatmap"
           }
          ],
          "heatmapgl": [
           {
            "colorbar": {
             "outlinewidth": 0,
             "ticks": ""
            },
            "colorscale": [
             [
              0,
              "#0d0887"
             ],
             [
              0.1111111111111111,
              "#46039f"
             ],
             [
              0.2222222222222222,
              "#7201a8"
             ],
             [
              0.3333333333333333,
              "#9c179e"
             ],
             [
              0.4444444444444444,
              "#bd3786"
             ],
             [
              0.5555555555555556,
              "#d8576b"
             ],
             [
              0.6666666666666666,
              "#ed7953"
             ],
             [
              0.7777777777777778,
              "#fb9f3a"
             ],
             [
              0.8888888888888888,
              "#fdca26"
             ],
             [
              1,
              "#f0f921"
             ]
            ],
            "type": "heatmapgl"
           }
          ],
          "histogram": [
           {
            "marker": {
             "pattern": {
              "fillmode": "overlay",
              "size": 10,
              "solidity": 0.2
             }
            },
            "type": "histogram"
           }
          ],
          "histogram2d": [
           {
            "colorbar": {
             "outlinewidth": 0,
             "ticks": ""
            },
            "colorscale": [
             [
              0,
              "#0d0887"
             ],
             [
              0.1111111111111111,
              "#46039f"
             ],
             [
              0.2222222222222222,
              "#7201a8"
             ],
             [
              0.3333333333333333,
              "#9c179e"
             ],
             [
              0.4444444444444444,
              "#bd3786"
             ],
             [
              0.5555555555555556,
              "#d8576b"
             ],
             [
              0.6666666666666666,
              "#ed7953"
             ],
             [
              0.7777777777777778,
              "#fb9f3a"
             ],
             [
              0.8888888888888888,
              "#fdca26"
             ],
             [
              1,
              "#f0f921"
             ]
            ],
            "type": "histogram2d"
           }
          ],
          "histogram2dcontour": [
           {
            "colorbar": {
             "outlinewidth": 0,
             "ticks": ""
            },
            "colorscale": [
             [
              0,
              "#0d0887"
             ],
             [
              0.1111111111111111,
              "#46039f"
             ],
             [
              0.2222222222222222,
              "#7201a8"
             ],
             [
              0.3333333333333333,
              "#9c179e"
             ],
             [
              0.4444444444444444,
              "#bd3786"
             ],
             [
              0.5555555555555556,
              "#d8576b"
             ],
             [
              0.6666666666666666,
              "#ed7953"
             ],
             [
              0.7777777777777778,
              "#fb9f3a"
             ],
             [
              0.8888888888888888,
              "#fdca26"
             ],
             [
              1,
              "#f0f921"
             ]
            ],
            "type": "histogram2dcontour"
           }
          ],
          "mesh3d": [
           {
            "colorbar": {
             "outlinewidth": 0,
             "ticks": ""
            },
            "type": "mesh3d"
           }
          ],
          "parcoords": [
           {
            "line": {
             "colorbar": {
              "outlinewidth": 0,
              "ticks": ""
             }
            },
            "type": "parcoords"
           }
          ],
          "pie": [
           {
            "automargin": true,
            "type": "pie"
           }
          ],
          "scatter": [
           {
            "marker": {
             "colorbar": {
              "outlinewidth": 0,
              "ticks": ""
             }
            },
            "type": "scatter"
           }
          ],
          "scatter3d": [
           {
            "line": {
             "colorbar": {
              "outlinewidth": 0,
              "ticks": ""
             }
            },
            "marker": {
             "colorbar": {
              "outlinewidth": 0,
              "ticks": ""
             }
            },
            "type": "scatter3d"
           }
          ],
          "scattercarpet": [
           {
            "marker": {
             "colorbar": {
              "outlinewidth": 0,
              "ticks": ""
             }
            },
            "type": "scattercarpet"
           }
          ],
          "scattergeo": [
           {
            "marker": {
             "colorbar": {
              "outlinewidth": 0,
              "ticks": ""
             }
            },
            "type": "scattergeo"
           }
          ],
          "scattergl": [
           {
            "marker": {
             "colorbar": {
              "outlinewidth": 0,
              "ticks": ""
             }
            },
            "type": "scattergl"
           }
          ],
          "scattermapbox": [
           {
            "marker": {
             "colorbar": {
              "outlinewidth": 0,
              "ticks": ""
             }
            },
            "type": "scattermapbox"
           }
          ],
          "scatterpolar": [
           {
            "marker": {
             "colorbar": {
              "outlinewidth": 0,
              "ticks": ""
             }
            },
            "type": "scatterpolar"
           }
          ],
          "scatterpolargl": [
           {
            "marker": {
             "colorbar": {
              "outlinewidth": 0,
              "ticks": ""
             }
            },
            "type": "scatterpolargl"
           }
          ],
          "scatterternary": [
           {
            "marker": {
             "colorbar": {
              "outlinewidth": 0,
              "ticks": ""
             }
            },
            "type": "scatterternary"
           }
          ],
          "surface": [
           {
            "colorbar": {
             "outlinewidth": 0,
             "ticks": ""
            },
            "colorscale": [
             [
              0,
              "#0d0887"
             ],
             [
              0.1111111111111111,
              "#46039f"
             ],
             [
              0.2222222222222222,
              "#7201a8"
             ],
             [
              0.3333333333333333,
              "#9c179e"
             ],
             [
              0.4444444444444444,
              "#bd3786"
             ],
             [
              0.5555555555555556,
              "#d8576b"
             ],
             [
              0.6666666666666666,
              "#ed7953"
             ],
             [
              0.7777777777777778,
              "#fb9f3a"
             ],
             [
              0.8888888888888888,
              "#fdca26"
             ],
             [
              1,
              "#f0f921"
             ]
            ],
            "type": "surface"
           }
          ],
          "table": [
           {
            "cells": {
             "fill": {
              "color": "#EBF0F8"
             },
             "line": {
              "color": "white"
             }
            },
            "header": {
             "fill": {
              "color": "#C8D4E3"
             },
             "line": {
              "color": "white"
             }
            },
            "type": "table"
           }
          ]
         },
         "layout": {
          "annotationdefaults": {
           "arrowcolor": "#2a3f5f",
           "arrowhead": 0,
           "arrowwidth": 1
          },
          "autotypenumbers": "strict",
          "coloraxis": {
           "colorbar": {
            "outlinewidth": 0,
            "ticks": ""
           }
          },
          "colorscale": {
           "diverging": [
            [
             0,
             "#8e0152"
            ],
            [
             0.1,
             "#c51b7d"
            ],
            [
             0.2,
             "#de77ae"
            ],
            [
             0.3,
             "#f1b6da"
            ],
            [
             0.4,
             "#fde0ef"
            ],
            [
             0.5,
             "#f7f7f7"
            ],
            [
             0.6,
             "#e6f5d0"
            ],
            [
             0.7,
             "#b8e186"
            ],
            [
             0.8,
             "#7fbc41"
            ],
            [
             0.9,
             "#4d9221"
            ],
            [
             1,
             "#276419"
            ]
           ],
           "sequential": [
            [
             0,
             "#0d0887"
            ],
            [
             0.1111111111111111,
             "#46039f"
            ],
            [
             0.2222222222222222,
             "#7201a8"
            ],
            [
             0.3333333333333333,
             "#9c179e"
            ],
            [
             0.4444444444444444,
             "#bd3786"
            ],
            [
             0.5555555555555556,
             "#d8576b"
            ],
            [
             0.6666666666666666,
             "#ed7953"
            ],
            [
             0.7777777777777778,
             "#fb9f3a"
            ],
            [
             0.8888888888888888,
             "#fdca26"
            ],
            [
             1,
             "#f0f921"
            ]
           ],
           "sequentialminus": [
            [
             0,
             "#0d0887"
            ],
            [
             0.1111111111111111,
             "#46039f"
            ],
            [
             0.2222222222222222,
             "#7201a8"
            ],
            [
             0.3333333333333333,
             "#9c179e"
            ],
            [
             0.4444444444444444,
             "#bd3786"
            ],
            [
             0.5555555555555556,
             "#d8576b"
            ],
            [
             0.6666666666666666,
             "#ed7953"
            ],
            [
             0.7777777777777778,
             "#fb9f3a"
            ],
            [
             0.8888888888888888,
             "#fdca26"
            ],
            [
             1,
             "#f0f921"
            ]
           ]
          },
          "colorway": [
           "#636efa",
           "#EF553B",
           "#00cc96",
           "#ab63fa",
           "#FFA15A",
           "#19d3f3",
           "#FF6692",
           "#B6E880",
           "#FF97FF",
           "#FECB52"
          ],
          "font": {
           "color": "#2a3f5f"
          },
          "geo": {
           "bgcolor": "white",
           "lakecolor": "white",
           "landcolor": "#E5ECF6",
           "showlakes": true,
           "showland": true,
           "subunitcolor": "white"
          },
          "hoverlabel": {
           "align": "left"
          },
          "hovermode": "closest",
          "mapbox": {
           "style": "light"
          },
          "paper_bgcolor": "white",
          "plot_bgcolor": "#E5ECF6",
          "polar": {
           "angularaxis": {
            "gridcolor": "white",
            "linecolor": "white",
            "ticks": ""
           },
           "bgcolor": "#E5ECF6",
           "radialaxis": {
            "gridcolor": "white",
            "linecolor": "white",
            "ticks": ""
           }
          },
          "scene": {
           "xaxis": {
            "backgroundcolor": "#E5ECF6",
            "gridcolor": "white",
            "gridwidth": 2,
            "linecolor": "white",
            "showbackground": true,
            "ticks": "",
            "zerolinecolor": "white"
           },
           "yaxis": {
            "backgroundcolor": "#E5ECF6",
            "gridcolor": "white",
            "gridwidth": 2,
            "linecolor": "white",
            "showbackground": true,
            "ticks": "",
            "zerolinecolor": "white"
           },
           "zaxis": {
            "backgroundcolor": "#E5ECF6",
            "gridcolor": "white",
            "gridwidth": 2,
            "linecolor": "white",
            "showbackground": true,
            "ticks": "",
            "zerolinecolor": "white"
           }
          },
          "shapedefaults": {
           "line": {
            "color": "#2a3f5f"
           }
          },
          "ternary": {
           "aaxis": {
            "gridcolor": "white",
            "linecolor": "white",
            "ticks": ""
           },
           "baxis": {
            "gridcolor": "white",
            "linecolor": "white",
            "ticks": ""
           },
           "bgcolor": "#E5ECF6",
           "caxis": {
            "gridcolor": "white",
            "linecolor": "white",
            "ticks": ""
           }
          },
          "title": {
           "x": 0.05
          },
          "xaxis": {
           "automargin": true,
           "gridcolor": "white",
           "linecolor": "white",
           "ticks": "",
           "title": {
            "standoff": 15
           },
           "zerolinecolor": "white",
           "zerolinewidth": 2
          },
          "yaxis": {
           "automargin": true,
           "gridcolor": "white",
           "linecolor": "white",
           "ticks": "",
           "title": {
            "standoff": 15
           },
           "zerolinecolor": "white",
           "zerolinewidth": 2
          }
         }
        }
       }
      },
      "text/html": [
       "<div>                            <div id=\"0161a4d3-96a0-489e-8f4a-ee19f37fa82e\" class=\"plotly-graph-div\" style=\"height:800px; width:100%;\"></div>            <script type=\"text/javascript\">                require([\"plotly\"], function(Plotly) {                    window.PLOTLYENV=window.PLOTLYENV || {};                                    if (document.getElementById(\"0161a4d3-96a0-489e-8f4a-ee19f37fa82e\")) {                    Plotly.newPlot(                        \"0161a4d3-96a0-489e-8f4a-ee19f37fa82e\",                        [{\"domain\":{\"x\":[0.0,1.0],\"y\":[0.0,1.0]},\"hole\":0.5,\"hovertemplate\":\"Country=%{label}<br>BillNo=%{value}<extra></extra>\",\"labels\":[\"Australia\",\"Austria\",\"Bahrain\",\"Belgium\",\"Brazil\",\"France\",\"Germany\",\"Greece\",\"Iceland\",\"Israel\",\"Italy\",\"Japan\",\"Lebanon\",\"Lithuania\",\"Malta\",\"Netherlands\",\"Norway\",\"Poland\",\"Portugal\",\"RSA\",\"Saudi Arabia\",\"Singapore\",\"Spain\",\"Sweden\",\"Switzerland\",\"USA\",\"United Arab Emirates\",\"United Kingdom\"],\"legendgroup\":\"\",\"name\":\"\",\"showlegend\":true,\"values\":[1185,398,17,2031,32,8342,9042,145,182,248,758,321,45,35,112,2363,1072,330,1462,58,9,222,2485,451,1842,179,68,354345],\"type\":\"pie\"}],                        {\"template\":{\"data\":{\"bar\":[{\"error_x\":{\"color\":\"#2a3f5f\"},\"error_y\":{\"color\":\"#2a3f5f\"},\"marker\":{\"line\":{\"color\":\"#E5ECF6\",\"width\":0.5},\"pattern\":{\"fillmode\":\"overlay\",\"size\":10,\"solidity\":0.2}},\"type\":\"bar\"}],\"barpolar\":[{\"marker\":{\"line\":{\"color\":\"#E5ECF6\",\"width\":0.5},\"pattern\":{\"fillmode\":\"overlay\",\"size\":10,\"solidity\":0.2}},\"type\":\"barpolar\"}],\"carpet\":[{\"aaxis\":{\"endlinecolor\":\"#2a3f5f\",\"gridcolor\":\"white\",\"linecolor\":\"white\",\"minorgridcolor\":\"white\",\"startlinecolor\":\"#2a3f5f\"},\"baxis\":{\"endlinecolor\":\"#2a3f5f\",\"gridcolor\":\"white\",\"linecolor\":\"white\",\"minorgridcolor\":\"white\",\"startlinecolor\":\"#2a3f5f\"},\"type\":\"carpet\"}],\"choropleth\":[{\"colorbar\":{\"outlinewidth\":0,\"ticks\":\"\"},\"type\":\"choropleth\"}],\"contour\":[{\"colorbar\":{\"outlinewidth\":0,\"ticks\":\"\"},\"colorscale\":[[0.0,\"#0d0887\"],[0.1111111111111111,\"#46039f\"],[0.2222222222222222,\"#7201a8\"],[0.3333333333333333,\"#9c179e\"],[0.4444444444444444,\"#bd3786\"],[0.5555555555555556,\"#d8576b\"],[0.6666666666666666,\"#ed7953\"],[0.7777777777777778,\"#fb9f3a\"],[0.8888888888888888,\"#fdca26\"],[1.0,\"#f0f921\"]],\"type\":\"contour\"}],\"contourcarpet\":[{\"colorbar\":{\"outlinewidth\":0,\"ticks\":\"\"},\"type\":\"contourcarpet\"}],\"heatmap\":[{\"colorbar\":{\"outlinewidth\":0,\"ticks\":\"\"},\"colorscale\":[[0.0,\"#0d0887\"],[0.1111111111111111,\"#46039f\"],[0.2222222222222222,\"#7201a8\"],[0.3333333333333333,\"#9c179e\"],[0.4444444444444444,\"#bd3786\"],[0.5555555555555556,\"#d8576b\"],[0.6666666666666666,\"#ed7953\"],[0.7777777777777778,\"#fb9f3a\"],[0.8888888888888888,\"#fdca26\"],[1.0,\"#f0f921\"]],\"type\":\"heatmap\"}],\"heatmapgl\":[{\"colorbar\":{\"outlinewidth\":0,\"ticks\":\"\"},\"colorscale\":[[0.0,\"#0d0887\"],[0.1111111111111111,\"#46039f\"],[0.2222222222222222,\"#7201a8\"],[0.3333333333333333,\"#9c179e\"],[0.4444444444444444,\"#bd3786\"],[0.5555555555555556,\"#d8576b\"],[0.6666666666666666,\"#ed7953\"],[0.7777777777777778,\"#fb9f3a\"],[0.8888888888888888,\"#fdca26\"],[1.0,\"#f0f921\"]],\"type\":\"heatmapgl\"}],\"histogram\":[{\"marker\":{\"pattern\":{\"fillmode\":\"overlay\",\"size\":10,\"solidity\":0.2}},\"type\":\"histogram\"}],\"histogram2d\":[{\"colorbar\":{\"outlinewidth\":0,\"ticks\":\"\"},\"colorscale\":[[0.0,\"#0d0887\"],[0.1111111111111111,\"#46039f\"],[0.2222222222222222,\"#7201a8\"],[0.3333333333333333,\"#9c179e\"],[0.4444444444444444,\"#bd3786\"],[0.5555555555555556,\"#d8576b\"],[0.6666666666666666,\"#ed7953\"],[0.7777777777777778,\"#fb9f3a\"],[0.8888888888888888,\"#fdca26\"],[1.0,\"#f0f921\"]],\"type\":\"histogram2d\"}],\"histogram2dcontour\":[{\"colorbar\":{\"outlinewidth\":0,\"ticks\":\"\"},\"colorscale\":[[0.0,\"#0d0887\"],[0.1111111111111111,\"#46039f\"],[0.2222222222222222,\"#7201a8\"],[0.3333333333333333,\"#9c179e\"],[0.4444444444444444,\"#bd3786\"],[0.5555555555555556,\"#d8576b\"],[0.6666666666666666,\"#ed7953\"],[0.7777777777777778,\"#fb9f3a\"],[0.8888888888888888,\"#fdca26\"],[1.0,\"#f0f921\"]],\"type\":\"histogram2dcontour\"}],\"mesh3d\":[{\"colorbar\":{\"outlinewidth\":0,\"ticks\":\"\"},\"type\":\"mesh3d\"}],\"parcoords\":[{\"line\":{\"colorbar\":{\"outlinewidth\":0,\"ticks\":\"\"}},\"type\":\"parcoords\"}],\"pie\":[{\"automargin\":true,\"type\":\"pie\"}],\"scatter\":[{\"marker\":{\"colorbar\":{\"outlinewidth\":0,\"ticks\":\"\"}},\"type\":\"scatter\"}],\"scatter3d\":[{\"line\":{\"colorbar\":{\"outlinewidth\":0,\"ticks\":\"\"}},\"marker\":{\"colorbar\":{\"outlinewidth\":0,\"ticks\":\"\"}},\"type\":\"scatter3d\"}],\"scattercarpet\":[{\"marker\":{\"colorbar\":{\"outlinewidth\":0,\"ticks\":\"\"}},\"type\":\"scattercarpet\"}],\"scattergeo\":[{\"marker\":{\"colorbar\":{\"outlinewidth\":0,\"ticks\":\"\"}},\"type\":\"scattergeo\"}],\"scattergl\":[{\"marker\":{\"colorbar\":{\"outlinewidth\":0,\"ticks\":\"\"}},\"type\":\"scattergl\"}],\"scattermapbox\":[{\"marker\":{\"colorbar\":{\"outlinewidth\":0,\"ticks\":\"\"}},\"type\":\"scattermapbox\"}],\"scatterpolar\":[{\"marker\":{\"colorbar\":{\"outlinewidth\":0,\"ticks\":\"\"}},\"type\":\"scatterpolar\"}],\"scatterpolargl\":[{\"marker\":{\"colorbar\":{\"outlinewidth\":0,\"ticks\":\"\"}},\"type\":\"scatterpolargl\"}],\"scatterternary\":[{\"marker\":{\"colorbar\":{\"outlinewidth\":0,\"ticks\":\"\"}},\"type\":\"scatterternary\"}],\"surface\":[{\"colorbar\":{\"outlinewidth\":0,\"ticks\":\"\"},\"colorscale\":[[0.0,\"#0d0887\"],[0.1111111111111111,\"#46039f\"],[0.2222222222222222,\"#7201a8\"],[0.3333333333333333,\"#9c179e\"],[0.4444444444444444,\"#bd3786\"],[0.5555555555555556,\"#d8576b\"],[0.6666666666666666,\"#ed7953\"],[0.7777777777777778,\"#fb9f3a\"],[0.8888888888888888,\"#fdca26\"],[1.0,\"#f0f921\"]],\"type\":\"surface\"}],\"table\":[{\"cells\":{\"fill\":{\"color\":\"#EBF0F8\"},\"line\":{\"color\":\"white\"}},\"header\":{\"fill\":{\"color\":\"#C8D4E3\"},\"line\":{\"color\":\"white\"}},\"type\":\"table\"}]},\"layout\":{\"annotationdefaults\":{\"arrowcolor\":\"#2a3f5f\",\"arrowhead\":0,\"arrowwidth\":1},\"autotypenumbers\":\"strict\",\"coloraxis\":{\"colorbar\":{\"outlinewidth\":0,\"ticks\":\"\"}},\"colorscale\":{\"diverging\":[[0,\"#8e0152\"],[0.1,\"#c51b7d\"],[0.2,\"#de77ae\"],[0.3,\"#f1b6da\"],[0.4,\"#fde0ef\"],[0.5,\"#f7f7f7\"],[0.6,\"#e6f5d0\"],[0.7,\"#b8e186\"],[0.8,\"#7fbc41\"],[0.9,\"#4d9221\"],[1,\"#276419\"]],\"sequential\":[[0.0,\"#0d0887\"],[0.1111111111111111,\"#46039f\"],[0.2222222222222222,\"#7201a8\"],[0.3333333333333333,\"#9c179e\"],[0.4444444444444444,\"#bd3786\"],[0.5555555555555556,\"#d8576b\"],[0.6666666666666666,\"#ed7953\"],[0.7777777777777778,\"#fb9f3a\"],[0.8888888888888888,\"#fdca26\"],[1.0,\"#f0f921\"]],\"sequentialminus\":[[0.0,\"#0d0887\"],[0.1111111111111111,\"#46039f\"],[0.2222222222222222,\"#7201a8\"],[0.3333333333333333,\"#9c179e\"],[0.4444444444444444,\"#bd3786\"],[0.5555555555555556,\"#d8576b\"],[0.6666666666666666,\"#ed7953\"],[0.7777777777777778,\"#fb9f3a\"],[0.8888888888888888,\"#fdca26\"],[1.0,\"#f0f921\"]]},\"colorway\":[\"#636efa\",\"#EF553B\",\"#00cc96\",\"#ab63fa\",\"#FFA15A\",\"#19d3f3\",\"#FF6692\",\"#B6E880\",\"#FF97FF\",\"#FECB52\"],\"font\":{\"color\":\"#2a3f5f\"},\"geo\":{\"bgcolor\":\"white\",\"lakecolor\":\"white\",\"landcolor\":\"#E5ECF6\",\"showlakes\":true,\"showland\":true,\"subunitcolor\":\"white\"},\"hoverlabel\":{\"align\":\"left\"},\"hovermode\":\"closest\",\"mapbox\":{\"style\":\"light\"},\"paper_bgcolor\":\"white\",\"plot_bgcolor\":\"#E5ECF6\",\"polar\":{\"angularaxis\":{\"gridcolor\":\"white\",\"linecolor\":\"white\",\"ticks\":\"\"},\"bgcolor\":\"#E5ECF6\",\"radialaxis\":{\"gridcolor\":\"white\",\"linecolor\":\"white\",\"ticks\":\"\"}},\"scene\":{\"xaxis\":{\"backgroundcolor\":\"#E5ECF6\",\"gridcolor\":\"white\",\"gridwidth\":2,\"linecolor\":\"white\",\"showbackground\":true,\"ticks\":\"\",\"zerolinecolor\":\"white\"},\"yaxis\":{\"backgroundcolor\":\"#E5ECF6\",\"gridcolor\":\"white\",\"gridwidth\":2,\"linecolor\":\"white\",\"showbackground\":true,\"ticks\":\"\",\"zerolinecolor\":\"white\"},\"zaxis\":{\"backgroundcolor\":\"#E5ECF6\",\"gridcolor\":\"white\",\"gridwidth\":2,\"linecolor\":\"white\",\"showbackground\":true,\"ticks\":\"\",\"zerolinecolor\":\"white\"}},\"shapedefaults\":{\"line\":{\"color\":\"#2a3f5f\"}},\"ternary\":{\"aaxis\":{\"gridcolor\":\"white\",\"linecolor\":\"white\",\"ticks\":\"\"},\"baxis\":{\"gridcolor\":\"white\",\"linecolor\":\"white\",\"ticks\":\"\"},\"bgcolor\":\"#E5ECF6\",\"caxis\":{\"gridcolor\":\"white\",\"linecolor\":\"white\",\"ticks\":\"\"}},\"title\":{\"x\":0.05},\"xaxis\":{\"automargin\":true,\"gridcolor\":\"white\",\"linecolor\":\"white\",\"ticks\":\"\",\"title\":{\"standoff\":15},\"zerolinecolor\":\"white\",\"zerolinewidth\":2},\"yaxis\":{\"automargin\":true,\"gridcolor\":\"white\",\"linecolor\":\"white\",\"ticks\":\"\",\"title\":{\"standoff\":15},\"zerolinecolor\":\"white\",\"zerolinewidth\":2}}},\"legend\":{\"tracegroupgap\":0},\"margin\":{\"t\":60},\"height\":800},                        {\"responsive\": true}                    ).then(function(){\n",
       "                            \n",
       "var gd = document.getElementById('0161a4d3-96a0-489e-8f4a-ee19f37fa82e');\n",
       "var x = new MutationObserver(function (mutations, observer) {{\n",
       "        var display = window.getComputedStyle(gd).display;\n",
       "        if (!display || display === 'none') {{\n",
       "            console.log([gd, 'removed!']);\n",
       "            Plotly.purge(gd);\n",
       "            observer.disconnect();\n",
       "        }}\n",
       "}});\n",
       "\n",
       "// Listen for the removal of the full notebook cells\n",
       "var notebookContainer = gd.closest('#notebook-container');\n",
       "if (notebookContainer) {{\n",
       "    x.observe(notebookContainer, {childList: true});\n",
       "}}\n",
       "\n",
       "// Listen for the clearing of the current output cell\n",
       "var outputEl = gd.closest('.output');\n",
       "if (outputEl) {{\n",
       "    x.observe(outputEl, {childList: true});\n",
       "}}\n",
       "\n",
       "                        })                };                });            </script>        </div>"
      ]
     },
     "metadata": {},
     "output_type": "display_data"
    }
   ],
   "source": [
    "# Quantidade de pedidos realizados por cada país\n",
    "df_paises = df_vendas.groupby('Country')['BillNo'].count().reset_index()\n",
    "df_paises.sort_values(by='BillNo', ascending=False, ignore_index=True)\n",
    "\n",
    "px.pie(df_paises, df_paises['Country'], df_paises['BillNo'], height=800, hole=0.5)"
   ]
  },
  {
   "cell_type": "markdown",
   "id": "6e0a8b28",
   "metadata": {},
   "source": [
    "## Pedidos por Vendedor"
   ]
  },
  {
   "cell_type": "code",
   "execution_count": 201,
   "id": "48b3251f",
   "metadata": {
    "scrolled": false
   },
   "outputs": [
    {
     "data": {
      "text/html": [
       "<div>\n",
       "<style scoped>\n",
       "    .dataframe tbody tr th:only-of-type {\n",
       "        vertical-align: middle;\n",
       "    }\n",
       "\n",
       "    .dataframe tbody tr th {\n",
       "        vertical-align: top;\n",
       "    }\n",
       "\n",
       "    .dataframe thead th {\n",
       "        text-align: right;\n",
       "    }\n",
       "</style>\n",
       "<table border=\"1\" class=\"dataframe\">\n",
       "  <thead>\n",
       "    <tr style=\"text-align: right;\">\n",
       "      <th></th>\n",
       "      <th>CustomerID</th>\n",
       "      <th>BillNo</th>\n",
       "    </tr>\n",
       "  </thead>\n",
       "  <tbody>\n",
       "    <tr>\n",
       "      <th>0</th>\n",
       "      <td>17841</td>\n",
       "      <td>7847</td>\n",
       "    </tr>\n",
       "    <tr>\n",
       "      <th>1</th>\n",
       "      <td>14096</td>\n",
       "      <td>5111</td>\n",
       "    </tr>\n",
       "    <tr>\n",
       "      <th>2</th>\n",
       "      <td>12748</td>\n",
       "      <td>4596</td>\n",
       "    </tr>\n",
       "    <tr>\n",
       "      <th>3</th>\n",
       "      <td>14606</td>\n",
       "      <td>2700</td>\n",
       "    </tr>\n",
       "    <tr>\n",
       "      <th>4</th>\n",
       "      <td>15311</td>\n",
       "      <td>2379</td>\n",
       "    </tr>\n",
       "    <tr>\n",
       "      <th>5</th>\n",
       "      <td>14646</td>\n",
       "      <td>2080</td>\n",
       "    </tr>\n",
       "    <tr>\n",
       "      <th>6</th>\n",
       "      <td>13089</td>\n",
       "      <td>1818</td>\n",
       "    </tr>\n",
       "    <tr>\n",
       "      <th>7</th>\n",
       "      <td>13263</td>\n",
       "      <td>1677</td>\n",
       "    </tr>\n",
       "    <tr>\n",
       "      <th>8</th>\n",
       "      <td>14298</td>\n",
       "      <td>1637</td>\n",
       "    </tr>\n",
       "    <tr>\n",
       "      <th>9</th>\n",
       "      <td>15039</td>\n",
       "      <td>1502</td>\n",
       "    </tr>\n",
       "    <tr>\n",
       "      <th>10</th>\n",
       "      <td>18118</td>\n",
       "      <td>1279</td>\n",
       "    </tr>\n",
       "    <tr>\n",
       "      <th>11</th>\n",
       "      <td>14159</td>\n",
       "      <td>1204</td>\n",
       "    </tr>\n",
       "    <tr>\n",
       "      <th>12</th>\n",
       "      <td>14796</td>\n",
       "      <td>1141</td>\n",
       "    </tr>\n",
       "    <tr>\n",
       "      <th>13</th>\n",
       "      <td>16033</td>\n",
       "      <td>1137</td>\n",
       "    </tr>\n",
       "    <tr>\n",
       "      <th>14</th>\n",
       "      <td>15005</td>\n",
       "      <td>1119</td>\n",
       "    </tr>\n",
       "  </tbody>\n",
       "</table>\n",
       "</div>"
      ],
      "text/plain": [
       "    CustomerID  BillNo\n",
       "0        17841    7847\n",
       "1        14096    5111\n",
       "2        12748    4596\n",
       "3        14606    2700\n",
       "4        15311    2379\n",
       "5        14646    2080\n",
       "6        13089    1818\n",
       "7        13263    1677\n",
       "8        14298    1637\n",
       "9        15039    1502\n",
       "10       18118    1279\n",
       "11       14159    1204\n",
       "12       14796    1141\n",
       "13       16033    1137\n",
       "14       15005    1119"
      ]
     },
     "execution_count": 201,
     "metadata": {},
     "output_type": "execute_result"
    }
   ],
   "source": [
    "# Quantidade de pedidos realizados por cada Vendedor\n",
    "df_customers = df_vendas.groupby('CustomerID')['BillNo'].count().reset_index()\n",
    "df_customers.sort_values(by='BillNo', ascending=False, ignore_index=True, inplace=True)\n",
    "df_customers.head(15)"
   ]
  },
  {
   "cell_type": "markdown",
   "id": "dc5316f8",
   "metadata": {},
   "source": [
    "## Análise de vendas, aumento e aceleração"
   ]
  },
  {
   "cell_type": "code",
   "execution_count": 203,
   "id": "2520a72a",
   "metadata": {},
   "outputs": [],
   "source": [
    "df_vendas_filtro = df_vendas.groupby('Date')['BillNo'].count().reset_index()\n",
    "df_vendas_filtro['Aumento'] = df_vendas_filtro['BillNo'].diff()\n",
    "df_vendas_filtro['Aceleracao'] = df_vendas_filtro['Aumento'].diff()\n",
    "\n",
    "# Adicionando colunas de mẽs ano para filtros de gráficos\n",
    "df_vendas_filtro['mes'] = df_vendas_filtro['Date'].dt.month\n",
    "df_vendas_filtro['ano'] = df_vendas_filtro['Date'].dt.year\n",
    "\n",
    "#substituindo inteiros pelo nome dos mes\n",
    "df_vendas_filtro['mes'] = df_vendas_filtro['mes'].map({1: 'Janeiro',\n",
    "                            2: 'Feveriero',\n",
    "                            3: 'Marco',\n",
    "                            4: 'Abril',\n",
    "                            5: 'Maio',\n",
    "                            6: 'Junho',\n",
    "                            7: 'Julho',\n",
    "                            8: 'Agosto',\n",
    "                            9: 'Setembro',\n",
    "                            10: 'Outubro',\n",
    "                            11: 'Novembro',\n",
    "                            12: 'Dezembro'})"
   ]
  },
  {
   "cell_type": "markdown",
   "id": "8f5bb136",
   "metadata": {},
   "source": [
    "#### No gráfico apresentado abaixo, é possivel observar a quantidade de vendas realizadas em cada mes dos anos de 2010 e 2011.\n",
    "# \n",
    "#### É possível notar que a partir do mês de setembro as vendas aumentam em relação a média dos demais meses, tendo seu pico em Novembro"
   ]
  },
  {
   "cell_type": "code",
   "execution_count": 204,
   "id": "7b5684b2",
   "metadata": {},
   "outputs": [
    {
     "data": {
      "application/vnd.plotly.v1+json": {
       "config": {
        "plotlyServerURL": "https://plot.ly"
       },
       "data": [
        {
         "alignmentgroup": "True",
         "bingroup": "x",
         "histfunc": "sum",
         "hovertemplate": "color=2010<br>x=%{x}<br>sum of y=%{y}<extra></extra>",
         "legendgroup": "2010",
         "marker": {
          "color": "#636efa",
          "pattern": {
           "shape": ""
          }
         },
         "name": "2010",
         "offsetgroup": "2010",
         "orientation": "v",
         "showlegend": true,
         "type": "histogram",
         "x": [
          "Dezembro",
          "Dezembro",
          "Dezembro",
          "Dezembro",
          "Dezembro",
          "Dezembro",
          "Dezembro",
          "Dezembro",
          "Dezembro",
          "Dezembro",
          "Dezembro",
          "Dezembro",
          "Dezembro",
          "Dezembro",
          "Dezembro",
          "Dezembro",
          "Dezembro",
          "Dezembro",
          "Dezembro",
          "Dezembro"
         ],
         "xaxis": "x",
         "y": [
          1921,
          1999,
          1029,
          2708,
          1909,
          1110,
          1948,
          1680,
          1329,
          1436,
          1267,
          1538,
          1289,
          1632,
          683,
          476,
          829,
          369,
          216,
          321
         ],
         "yaxis": "y"
        },
        {
         "alignmentgroup": "True",
         "bingroup": "x",
         "histfunc": "sum",
         "hovertemplate": "color=2011<br>x=%{x}<br>sum of y=%{y}<extra></extra>",
         "legendgroup": "2011",
         "marker": {
          "color": "#EF553B",
          "pattern": {
           "shape": ""
          }
         },
         "name": "2011",
         "offsetgroup": "2011",
         "orientation": "v",
         "showlegend": true,
         "type": "histogram",
         "x": [
          "Janeiro",
          "Janeiro",
          "Janeiro",
          "Janeiro",
          "Janeiro",
          "Janeiro",
          "Janeiro",
          "Janeiro",
          "Janeiro",
          "Janeiro",
          "Janeiro",
          "Janeiro",
          "Janeiro",
          "Janeiro",
          "Janeiro",
          "Janeiro",
          "Janeiro",
          "Janeiro",
          "Janeiro",
          "Janeiro",
          "Janeiro",
          "Janeiro",
          "Janeiro",
          "Janeiro",
          "Feveriero",
          "Feveriero",
          "Feveriero",
          "Feveriero",
          "Feveriero",
          "Feveriero",
          "Feveriero",
          "Feveriero",
          "Feveriero",
          "Feveriero",
          "Feveriero",
          "Feveriero",
          "Feveriero",
          "Feveriero",
          "Feveriero",
          "Feveriero",
          "Feveriero",
          "Feveriero",
          "Feveriero",
          "Feveriero",
          "Feveriero",
          "Feveriero",
          "Feveriero",
          "Feveriero",
          "Marco",
          "Marco",
          "Marco",
          "Marco",
          "Marco",
          "Marco",
          "Marco",
          "Marco",
          "Marco",
          "Marco",
          "Marco",
          "Marco",
          "Marco",
          "Marco",
          "Marco",
          "Marco",
          "Marco",
          "Marco",
          "Marco",
          "Marco",
          "Marco",
          "Marco",
          "Marco",
          "Marco",
          "Marco",
          "Marco",
          "Marco",
          "Abril",
          "Abril",
          "Abril",
          "Abril",
          "Abril",
          "Abril",
          "Abril",
          "Abril",
          "Abril",
          "Abril",
          "Abril",
          "Abril",
          "Abril",
          "Abril",
          "Abril",
          "Abril",
          "Abril",
          "Abril",
          "Abril",
          "Abril",
          "Abril",
          "Maio",
          "Maio",
          "Maio",
          "Maio",
          "Maio",
          "Maio",
          "Maio",
          "Maio",
          "Maio",
          "Maio",
          "Maio",
          "Maio",
          "Maio",
          "Maio",
          "Maio",
          "Maio",
          "Maio",
          "Maio",
          "Maio",
          "Maio",
          "Maio",
          "Maio",
          "Maio",
          "Maio",
          "Maio",
          "Junho",
          "Junho",
          "Junho",
          "Junho",
          "Junho",
          "Junho",
          "Junho",
          "Junho",
          "Junho",
          "Junho",
          "Junho",
          "Junho",
          "Junho",
          "Junho",
          "Junho",
          "Junho",
          "Junho",
          "Junho",
          "Junho",
          "Junho",
          "Junho",
          "Junho",
          "Junho",
          "Junho",
          "Junho",
          "Junho",
          "Julho",
          "Julho",
          "Julho",
          "Julho",
          "Julho",
          "Julho",
          "Julho",
          "Julho",
          "Julho",
          "Julho",
          "Julho",
          "Julho",
          "Julho",
          "Julho",
          "Julho",
          "Julho",
          "Julho",
          "Julho",
          "Julho",
          "Julho",
          "Julho",
          "Julho",
          "Julho",
          "Julho",
          "Julho",
          "Julho",
          "Agosto",
          "Agosto",
          "Agosto",
          "Agosto",
          "Agosto",
          "Agosto",
          "Agosto",
          "Agosto",
          "Agosto",
          "Agosto",
          "Agosto",
          "Agosto",
          "Agosto",
          "Agosto",
          "Agosto",
          "Agosto",
          "Agosto",
          "Agosto",
          "Agosto",
          "Agosto",
          "Agosto",
          "Agosto",
          "Agosto",
          "Agosto",
          "Agosto",
          "Agosto",
          "Setembro",
          "Setembro",
          "Setembro",
          "Setembro",
          "Setembro",
          "Setembro",
          "Setembro",
          "Setembro",
          "Setembro",
          "Setembro",
          "Setembro",
          "Setembro",
          "Setembro",
          "Setembro",
          "Setembro",
          "Setembro",
          "Setembro",
          "Setembro",
          "Setembro",
          "Setembro",
          "Setembro",
          "Setembro",
          "Setembro",
          "Setembro",
          "Setembro",
          "Setembro",
          "Outubro",
          "Outubro",
          "Outubro",
          "Outubro",
          "Outubro",
          "Outubro",
          "Outubro",
          "Outubro",
          "Outubro",
          "Outubro",
          "Outubro",
          "Outubro",
          "Outubro",
          "Outubro",
          "Outubro",
          "Outubro",
          "Outubro",
          "Outubro",
          "Outubro",
          "Outubro",
          "Outubro",
          "Outubro",
          "Outubro",
          "Outubro",
          "Outubro",
          "Outubro",
          "Novembro",
          "Novembro",
          "Novembro",
          "Novembro",
          "Novembro",
          "Novembro",
          "Novembro",
          "Novembro",
          "Novembro",
          "Novembro",
          "Novembro",
          "Novembro",
          "Novembro",
          "Novembro",
          "Novembro",
          "Novembro",
          "Novembro",
          "Novembro",
          "Novembro",
          "Novembro",
          "Novembro",
          "Novembro",
          "Novembro",
          "Novembro",
          "Novembro",
          "Novembro",
          "Dezembro",
          "Dezembro",
          "Dezembro",
          "Dezembro",
          "Dezembro",
          "Dezembro",
          "Dezembro",
          "Dezembro"
         ],
         "xaxis": "x",
         "y": [
          746,
          1047,
          1266,
          1073,
          1085,
          792,
          841,
          887,
          727,
          759,
          642,
          960,
          518,
          952,
          670,
          683,
          860,
          747,
          1191,
          941,
          1257,
          644,
          714,
          1000,
          1180,
          996,
          809,
          718,
          279,
          862,
          617,
          439,
          662,
          530,
          609,
          626,
          899,
          939,
          1045,
          591,
          859,
          930,
          1145,
          950,
          1097,
          811,
          810,
          966,
          897,
          851,
          919,
          811,
          821,
          1102,
          1188,
          937,
          728,
          647,
          534,
          976,
          749,
          845,
          995,
          976,
          1186,
          974,
          1227,
          1038,
          1528,
          942,
          714,
          1270,
          1052,
          1256,
          1010,
          1056,
          719,
          1172,
          932,
          734,
          1265,
          1024,
          933,
          1041,
          1077,
          1012,
          1478,
          771,
          941,
          1415,
          1164,
          911,
          1380,
          1199,
          1040,
          998,
          448,
          916,
          1139,
          1186,
          1284,
          1451,
          1057,
          1253,
          1444,
          1753,
          1107,
          745,
          1044,
          1298,
          1100,
          1443,
          934,
          1553,
          1233,
          1065,
          1005,
          857,
          842,
          630,
          909,
          701,
          1032,
          603,
          1536,
          994,
          1441,
          1400,
          1300,
          692,
          1066,
          1083,
          1020,
          1258,
          1226,
          743,
          1143,
          1069,
          979,
          939,
          1515,
          689,
          667,
          740,
          787,
          528,
          1162,
          779,
          598,
          930,
          773,
          1232,
          1248,
          784,
          815,
          992,
          743,
          1206,
          1252,
          723,
          1194,
          1109,
          1323,
          1205,
          1244,
          751,
          1068,
          1048,
          836,
          818,
          1107,
          915,
          1162,
          987,
          913,
          1336,
          1409,
          1104,
          528,
          1029,
          881,
          701,
          1359,
          625,
          538,
          886,
          938,
          1388,
          1471,
          761,
          1039,
          1238,
          1220,
          1527,
          1183,
          774,
          1196,
          389,
          755,
          1377,
          1075,
          1305,
          1317,
          980,
          792,
          1399,
          1275,
          2027,
          1444,
          1889,
          1083,
          1573,
          1243,
          1272,
          1304,
          1346,
          1665,
          2357,
          1697,
          1978,
          1431,
          1357,
          1995,
          2226,
          1403,
          1420,
          1758,
          2058,
          2075,
          2619,
          1859,
          1241,
          2645,
          1704,
          1295,
          1817,
          1447,
          1247,
          2236,
          1992,
          1751,
          2175,
          1264,
          1724,
          1844,
          2080,
          1731,
          2216,
          1417,
          2880,
          1779,
          1627,
          1759,
          1962,
          2464,
          3359,
          1699,
          2310,
          2154,
          3088,
          2334,
          2655,
          2865,
          2107,
          2694,
          2853,
          2004,
          3054,
          2294,
          2730,
          3270,
          2411,
          1692,
          2439,
          2661,
          2714,
          2006,
          2102,
          1970,
          1911,
          3341,
          2554,
          2001,
          2460,
          617
         ],
         "yaxis": "y"
        }
       ],
       "layout": {
        "barmode": "relative",
        "legend": {
         "title": {
          "text": "color"
         },
         "tracegroupgap": 0
        },
        "template": {
         "data": {
          "bar": [
           {
            "error_x": {
             "color": "#2a3f5f"
            },
            "error_y": {
             "color": "#2a3f5f"
            },
            "marker": {
             "line": {
              "color": "#E5ECF6",
              "width": 0.5
             },
             "pattern": {
              "fillmode": "overlay",
              "size": 10,
              "solidity": 0.2
             }
            },
            "type": "bar"
           }
          ],
          "barpolar": [
           {
            "marker": {
             "line": {
              "color": "#E5ECF6",
              "width": 0.5
             },
             "pattern": {
              "fillmode": "overlay",
              "size": 10,
              "solidity": 0.2
             }
            },
            "type": "barpolar"
           }
          ],
          "carpet": [
           {
            "aaxis": {
             "endlinecolor": "#2a3f5f",
             "gridcolor": "white",
             "linecolor": "white",
             "minorgridcolor": "white",
             "startlinecolor": "#2a3f5f"
            },
            "baxis": {
             "endlinecolor": "#2a3f5f",
             "gridcolor": "white",
             "linecolor": "white",
             "minorgridcolor": "white",
             "startlinecolor": "#2a3f5f"
            },
            "type": "carpet"
           }
          ],
          "choropleth": [
           {
            "colorbar": {
             "outlinewidth": 0,
             "ticks": ""
            },
            "type": "choropleth"
           }
          ],
          "contour": [
           {
            "colorbar": {
             "outlinewidth": 0,
             "ticks": ""
            },
            "colorscale": [
             [
              0,
              "#0d0887"
             ],
             [
              0.1111111111111111,
              "#46039f"
             ],
             [
              0.2222222222222222,
              "#7201a8"
             ],
             [
              0.3333333333333333,
              "#9c179e"
             ],
             [
              0.4444444444444444,
              "#bd3786"
             ],
             [
              0.5555555555555556,
              "#d8576b"
             ],
             [
              0.6666666666666666,
              "#ed7953"
             ],
             [
              0.7777777777777778,
              "#fb9f3a"
             ],
             [
              0.8888888888888888,
              "#fdca26"
             ],
             [
              1,
              "#f0f921"
             ]
            ],
            "type": "contour"
           }
          ],
          "contourcarpet": [
           {
            "colorbar": {
             "outlinewidth": 0,
             "ticks": ""
            },
            "type": "contourcarpet"
           }
          ],
          "heatmap": [
           {
            "colorbar": {
             "outlinewidth": 0,
             "ticks": ""
            },
            "colorscale": [
             [
              0,
              "#0d0887"
             ],
             [
              0.1111111111111111,
              "#46039f"
             ],
             [
              0.2222222222222222,
              "#7201a8"
             ],
             [
              0.3333333333333333,
              "#9c179e"
             ],
             [
              0.4444444444444444,
              "#bd3786"
             ],
             [
              0.5555555555555556,
              "#d8576b"
             ],
             [
              0.6666666666666666,
              "#ed7953"
             ],
             [
              0.7777777777777778,
              "#fb9f3a"
             ],
             [
              0.8888888888888888,
              "#fdca26"
             ],
             [
              1,
              "#f0f921"
             ]
            ],
            "type": "heatmap"
           }
          ],
          "heatmapgl": [
           {
            "colorbar": {
             "outlinewidth": 0,
             "ticks": ""
            },
            "colorscale": [
             [
              0,
              "#0d0887"
             ],
             [
              0.1111111111111111,
              "#46039f"
             ],
             [
              0.2222222222222222,
              "#7201a8"
             ],
             [
              0.3333333333333333,
              "#9c179e"
             ],
             [
              0.4444444444444444,
              "#bd3786"
             ],
             [
              0.5555555555555556,
              "#d8576b"
             ],
             [
              0.6666666666666666,
              "#ed7953"
             ],
             [
              0.7777777777777778,
              "#fb9f3a"
             ],
             [
              0.8888888888888888,
              "#fdca26"
             ],
             [
              1,
              "#f0f921"
             ]
            ],
            "type": "heatmapgl"
           }
          ],
          "histogram": [
           {
            "marker": {
             "pattern": {
              "fillmode": "overlay",
              "size": 10,
              "solidity": 0.2
             }
            },
            "type": "histogram"
           }
          ],
          "histogram2d": [
           {
            "colorbar": {
             "outlinewidth": 0,
             "ticks": ""
            },
            "colorscale": [
             [
              0,
              "#0d0887"
             ],
             [
              0.1111111111111111,
              "#46039f"
             ],
             [
              0.2222222222222222,
              "#7201a8"
             ],
             [
              0.3333333333333333,
              "#9c179e"
             ],
             [
              0.4444444444444444,
              "#bd3786"
             ],
             [
              0.5555555555555556,
              "#d8576b"
             ],
             [
              0.6666666666666666,
              "#ed7953"
             ],
             [
              0.7777777777777778,
              "#fb9f3a"
             ],
             [
              0.8888888888888888,
              "#fdca26"
             ],
             [
              1,
              "#f0f921"
             ]
            ],
            "type": "histogram2d"
           }
          ],
          "histogram2dcontour": [
           {
            "colorbar": {
             "outlinewidth": 0,
             "ticks": ""
            },
            "colorscale": [
             [
              0,
              "#0d0887"
             ],
             [
              0.1111111111111111,
              "#46039f"
             ],
             [
              0.2222222222222222,
              "#7201a8"
             ],
             [
              0.3333333333333333,
              "#9c179e"
             ],
             [
              0.4444444444444444,
              "#bd3786"
             ],
             [
              0.5555555555555556,
              "#d8576b"
             ],
             [
              0.6666666666666666,
              "#ed7953"
             ],
             [
              0.7777777777777778,
              "#fb9f3a"
             ],
             [
              0.8888888888888888,
              "#fdca26"
             ],
             [
              1,
              "#f0f921"
             ]
            ],
            "type": "histogram2dcontour"
           }
          ],
          "mesh3d": [
           {
            "colorbar": {
             "outlinewidth": 0,
             "ticks": ""
            },
            "type": "mesh3d"
           }
          ],
          "parcoords": [
           {
            "line": {
             "colorbar": {
              "outlinewidth": 0,
              "ticks": ""
             }
            },
            "type": "parcoords"
           }
          ],
          "pie": [
           {
            "automargin": true,
            "type": "pie"
           }
          ],
          "scatter": [
           {
            "marker": {
             "colorbar": {
              "outlinewidth": 0,
              "ticks": ""
             }
            },
            "type": "scatter"
           }
          ],
          "scatter3d": [
           {
            "line": {
             "colorbar": {
              "outlinewidth": 0,
              "ticks": ""
             }
            },
            "marker": {
             "colorbar": {
              "outlinewidth": 0,
              "ticks": ""
             }
            },
            "type": "scatter3d"
           }
          ],
          "scattercarpet": [
           {
            "marker": {
             "colorbar": {
              "outlinewidth": 0,
              "ticks": ""
             }
            },
            "type": "scattercarpet"
           }
          ],
          "scattergeo": [
           {
            "marker": {
             "colorbar": {
              "outlinewidth": 0,
              "ticks": ""
             }
            },
            "type": "scattergeo"
           }
          ],
          "scattergl": [
           {
            "marker": {
             "colorbar": {
              "outlinewidth": 0,
              "ticks": ""
             }
            },
            "type": "scattergl"
           }
          ],
          "scattermapbox": [
           {
            "marker": {
             "colorbar": {
              "outlinewidth": 0,
              "ticks": ""
             }
            },
            "type": "scattermapbox"
           }
          ],
          "scatterpolar": [
           {
            "marker": {
             "colorbar": {
              "outlinewidth": 0,
              "ticks": ""
             }
            },
            "type": "scatterpolar"
           }
          ],
          "scatterpolargl": [
           {
            "marker": {
             "colorbar": {
              "outlinewidth": 0,
              "ticks": ""
             }
            },
            "type": "scatterpolargl"
           }
          ],
          "scatterternary": [
           {
            "marker": {
             "colorbar": {
              "outlinewidth": 0,
              "ticks": ""
             }
            },
            "type": "scatterternary"
           }
          ],
          "surface": [
           {
            "colorbar": {
             "outlinewidth": 0,
             "ticks": ""
            },
            "colorscale": [
             [
              0,
              "#0d0887"
             ],
             [
              0.1111111111111111,
              "#46039f"
             ],
             [
              0.2222222222222222,
              "#7201a8"
             ],
             [
              0.3333333333333333,
              "#9c179e"
             ],
             [
              0.4444444444444444,
              "#bd3786"
             ],
             [
              0.5555555555555556,
              "#d8576b"
             ],
             [
              0.6666666666666666,
              "#ed7953"
             ],
             [
              0.7777777777777778,
              "#fb9f3a"
             ],
             [
              0.8888888888888888,
              "#fdca26"
             ],
             [
              1,
              "#f0f921"
             ]
            ],
            "type": "surface"
           }
          ],
          "table": [
           {
            "cells": {
             "fill": {
              "color": "#EBF0F8"
             },
             "line": {
              "color": "white"
             }
            },
            "header": {
             "fill": {
              "color": "#C8D4E3"
             },
             "line": {
              "color": "white"
             }
            },
            "type": "table"
           }
          ]
         },
         "layout": {
          "annotationdefaults": {
           "arrowcolor": "#2a3f5f",
           "arrowhead": 0,
           "arrowwidth": 1
          },
          "autotypenumbers": "strict",
          "coloraxis": {
           "colorbar": {
            "outlinewidth": 0,
            "ticks": ""
           }
          },
          "colorscale": {
           "diverging": [
            [
             0,
             "#8e0152"
            ],
            [
             0.1,
             "#c51b7d"
            ],
            [
             0.2,
             "#de77ae"
            ],
            [
             0.3,
             "#f1b6da"
            ],
            [
             0.4,
             "#fde0ef"
            ],
            [
             0.5,
             "#f7f7f7"
            ],
            [
             0.6,
             "#e6f5d0"
            ],
            [
             0.7,
             "#b8e186"
            ],
            [
             0.8,
             "#7fbc41"
            ],
            [
             0.9,
             "#4d9221"
            ],
            [
             1,
             "#276419"
            ]
           ],
           "sequential": [
            [
             0,
             "#0d0887"
            ],
            [
             0.1111111111111111,
             "#46039f"
            ],
            [
             0.2222222222222222,
             "#7201a8"
            ],
            [
             0.3333333333333333,
             "#9c179e"
            ],
            [
             0.4444444444444444,
             "#bd3786"
            ],
            [
             0.5555555555555556,
             "#d8576b"
            ],
            [
             0.6666666666666666,
             "#ed7953"
            ],
            [
             0.7777777777777778,
             "#fb9f3a"
            ],
            [
             0.8888888888888888,
             "#fdca26"
            ],
            [
             1,
             "#f0f921"
            ]
           ],
           "sequentialminus": [
            [
             0,
             "#0d0887"
            ],
            [
             0.1111111111111111,
             "#46039f"
            ],
            [
             0.2222222222222222,
             "#7201a8"
            ],
            [
             0.3333333333333333,
             "#9c179e"
            ],
            [
             0.4444444444444444,
             "#bd3786"
            ],
            [
             0.5555555555555556,
             "#d8576b"
            ],
            [
             0.6666666666666666,
             "#ed7953"
            ],
            [
             0.7777777777777778,
             "#fb9f3a"
            ],
            [
             0.8888888888888888,
             "#fdca26"
            ],
            [
             1,
             "#f0f921"
            ]
           ]
          },
          "colorway": [
           "#636efa",
           "#EF553B",
           "#00cc96",
           "#ab63fa",
           "#FFA15A",
           "#19d3f3",
           "#FF6692",
           "#B6E880",
           "#FF97FF",
           "#FECB52"
          ],
          "font": {
           "color": "#2a3f5f"
          },
          "geo": {
           "bgcolor": "white",
           "lakecolor": "white",
           "landcolor": "#E5ECF6",
           "showlakes": true,
           "showland": true,
           "subunitcolor": "white"
          },
          "hoverlabel": {
           "align": "left"
          },
          "hovermode": "closest",
          "mapbox": {
           "style": "light"
          },
          "paper_bgcolor": "white",
          "plot_bgcolor": "#E5ECF6",
          "polar": {
           "angularaxis": {
            "gridcolor": "white",
            "linecolor": "white",
            "ticks": ""
           },
           "bgcolor": "#E5ECF6",
           "radialaxis": {
            "gridcolor": "white",
            "linecolor": "white",
            "ticks": ""
           }
          },
          "scene": {
           "xaxis": {
            "backgroundcolor": "#E5ECF6",
            "gridcolor": "white",
            "gridwidth": 2,
            "linecolor": "white",
            "showbackground": true,
            "ticks": "",
            "zerolinecolor": "white"
           },
           "yaxis": {
            "backgroundcolor": "#E5ECF6",
            "gridcolor": "white",
            "gridwidth": 2,
            "linecolor": "white",
            "showbackground": true,
            "ticks": "",
            "zerolinecolor": "white"
           },
           "zaxis": {
            "backgroundcolor": "#E5ECF6",
            "gridcolor": "white",
            "gridwidth": 2,
            "linecolor": "white",
            "showbackground": true,
            "ticks": "",
            "zerolinecolor": "white"
           }
          },
          "shapedefaults": {
           "line": {
            "color": "#2a3f5f"
           }
          },
          "ternary": {
           "aaxis": {
            "gridcolor": "white",
            "linecolor": "white",
            "ticks": ""
           },
           "baxis": {
            "gridcolor": "white",
            "linecolor": "white",
            "ticks": ""
           },
           "bgcolor": "#E5ECF6",
           "caxis": {
            "gridcolor": "white",
            "linecolor": "white",
            "ticks": ""
           }
          },
          "title": {
           "x": 0.05
          },
          "xaxis": {
           "automargin": true,
           "gridcolor": "white",
           "linecolor": "white",
           "ticks": "",
           "title": {
            "standoff": 15
           },
           "zerolinecolor": "white",
           "zerolinewidth": 2
          },
          "yaxis": {
           "automargin": true,
           "gridcolor": "white",
           "linecolor": "white",
           "ticks": "",
           "title": {
            "standoff": 15
           },
           "zerolinecolor": "white",
           "zerolinewidth": 2
          }
         }
        },
        "title": {
         "text": "Quantidade de vendas em 2010 e 2011"
        },
        "xaxis": {
         "anchor": "y",
         "domain": [
          0,
          1
         ],
         "title": {
          "text": "x"
         }
        },
        "yaxis": {
         "anchor": "x",
         "domain": [
          0,
          1
         ],
         "title": {
          "text": "sum of y"
         }
        }
       }
      },
      "text/html": [
       "<div>                            <div id=\"ce85ca75-7caf-4635-b129-5b7bb189175d\" class=\"plotly-graph-div\" style=\"height:525px; width:100%;\"></div>            <script type=\"text/javascript\">                require([\"plotly\"], function(Plotly) {                    window.PLOTLYENV=window.PLOTLYENV || {};                                    if (document.getElementById(\"ce85ca75-7caf-4635-b129-5b7bb189175d\")) {                    Plotly.newPlot(                        \"ce85ca75-7caf-4635-b129-5b7bb189175d\",                        [{\"alignmentgroup\":\"True\",\"bingroup\":\"x\",\"histfunc\":\"sum\",\"hovertemplate\":\"color=2010<br>x=%{x}<br>sum of y=%{y}<extra></extra>\",\"legendgroup\":\"2010\",\"marker\":{\"color\":\"#636efa\",\"pattern\":{\"shape\":\"\"}},\"name\":\"2010\",\"offsetgroup\":\"2010\",\"orientation\":\"v\",\"showlegend\":true,\"x\":[\"Dezembro\",\"Dezembro\",\"Dezembro\",\"Dezembro\",\"Dezembro\",\"Dezembro\",\"Dezembro\",\"Dezembro\",\"Dezembro\",\"Dezembro\",\"Dezembro\",\"Dezembro\",\"Dezembro\",\"Dezembro\",\"Dezembro\",\"Dezembro\",\"Dezembro\",\"Dezembro\",\"Dezembro\",\"Dezembro\"],\"xaxis\":\"x\",\"y\":[1921,1999,1029,2708,1909,1110,1948,1680,1329,1436,1267,1538,1289,1632,683,476,829,369,216,321],\"yaxis\":\"y\",\"type\":\"histogram\"},{\"alignmentgroup\":\"True\",\"bingroup\":\"x\",\"histfunc\":\"sum\",\"hovertemplate\":\"color=2011<br>x=%{x}<br>sum of y=%{y}<extra></extra>\",\"legendgroup\":\"2011\",\"marker\":{\"color\":\"#EF553B\",\"pattern\":{\"shape\":\"\"}},\"name\":\"2011\",\"offsetgroup\":\"2011\",\"orientation\":\"v\",\"showlegend\":true,\"x\":[\"Janeiro\",\"Janeiro\",\"Janeiro\",\"Janeiro\",\"Janeiro\",\"Janeiro\",\"Janeiro\",\"Janeiro\",\"Janeiro\",\"Janeiro\",\"Janeiro\",\"Janeiro\",\"Janeiro\",\"Janeiro\",\"Janeiro\",\"Janeiro\",\"Janeiro\",\"Janeiro\",\"Janeiro\",\"Janeiro\",\"Janeiro\",\"Janeiro\",\"Janeiro\",\"Janeiro\",\"Feveriero\",\"Feveriero\",\"Feveriero\",\"Feveriero\",\"Feveriero\",\"Feveriero\",\"Feveriero\",\"Feveriero\",\"Feveriero\",\"Feveriero\",\"Feveriero\",\"Feveriero\",\"Feveriero\",\"Feveriero\",\"Feveriero\",\"Feveriero\",\"Feveriero\",\"Feveriero\",\"Feveriero\",\"Feveriero\",\"Feveriero\",\"Feveriero\",\"Feveriero\",\"Feveriero\",\"Marco\",\"Marco\",\"Marco\",\"Marco\",\"Marco\",\"Marco\",\"Marco\",\"Marco\",\"Marco\",\"Marco\",\"Marco\",\"Marco\",\"Marco\",\"Marco\",\"Marco\",\"Marco\",\"Marco\",\"Marco\",\"Marco\",\"Marco\",\"Marco\",\"Marco\",\"Marco\",\"Marco\",\"Marco\",\"Marco\",\"Marco\",\"Abril\",\"Abril\",\"Abril\",\"Abril\",\"Abril\",\"Abril\",\"Abril\",\"Abril\",\"Abril\",\"Abril\",\"Abril\",\"Abril\",\"Abril\",\"Abril\",\"Abril\",\"Abril\",\"Abril\",\"Abril\",\"Abril\",\"Abril\",\"Abril\",\"Maio\",\"Maio\",\"Maio\",\"Maio\",\"Maio\",\"Maio\",\"Maio\",\"Maio\",\"Maio\",\"Maio\",\"Maio\",\"Maio\",\"Maio\",\"Maio\",\"Maio\",\"Maio\",\"Maio\",\"Maio\",\"Maio\",\"Maio\",\"Maio\",\"Maio\",\"Maio\",\"Maio\",\"Maio\",\"Junho\",\"Junho\",\"Junho\",\"Junho\",\"Junho\",\"Junho\",\"Junho\",\"Junho\",\"Junho\",\"Junho\",\"Junho\",\"Junho\",\"Junho\",\"Junho\",\"Junho\",\"Junho\",\"Junho\",\"Junho\",\"Junho\",\"Junho\",\"Junho\",\"Junho\",\"Junho\",\"Junho\",\"Junho\",\"Junho\",\"Julho\",\"Julho\",\"Julho\",\"Julho\",\"Julho\",\"Julho\",\"Julho\",\"Julho\",\"Julho\",\"Julho\",\"Julho\",\"Julho\",\"Julho\",\"Julho\",\"Julho\",\"Julho\",\"Julho\",\"Julho\",\"Julho\",\"Julho\",\"Julho\",\"Julho\",\"Julho\",\"Julho\",\"Julho\",\"Julho\",\"Agosto\",\"Agosto\",\"Agosto\",\"Agosto\",\"Agosto\",\"Agosto\",\"Agosto\",\"Agosto\",\"Agosto\",\"Agosto\",\"Agosto\",\"Agosto\",\"Agosto\",\"Agosto\",\"Agosto\",\"Agosto\",\"Agosto\",\"Agosto\",\"Agosto\",\"Agosto\",\"Agosto\",\"Agosto\",\"Agosto\",\"Agosto\",\"Agosto\",\"Agosto\",\"Setembro\",\"Setembro\",\"Setembro\",\"Setembro\",\"Setembro\",\"Setembro\",\"Setembro\",\"Setembro\",\"Setembro\",\"Setembro\",\"Setembro\",\"Setembro\",\"Setembro\",\"Setembro\",\"Setembro\",\"Setembro\",\"Setembro\",\"Setembro\",\"Setembro\",\"Setembro\",\"Setembro\",\"Setembro\",\"Setembro\",\"Setembro\",\"Setembro\",\"Setembro\",\"Outubro\",\"Outubro\",\"Outubro\",\"Outubro\",\"Outubro\",\"Outubro\",\"Outubro\",\"Outubro\",\"Outubro\",\"Outubro\",\"Outubro\",\"Outubro\",\"Outubro\",\"Outubro\",\"Outubro\",\"Outubro\",\"Outubro\",\"Outubro\",\"Outubro\",\"Outubro\",\"Outubro\",\"Outubro\",\"Outubro\",\"Outubro\",\"Outubro\",\"Outubro\",\"Novembro\",\"Novembro\",\"Novembro\",\"Novembro\",\"Novembro\",\"Novembro\",\"Novembro\",\"Novembro\",\"Novembro\",\"Novembro\",\"Novembro\",\"Novembro\",\"Novembro\",\"Novembro\",\"Novembro\",\"Novembro\",\"Novembro\",\"Novembro\",\"Novembro\",\"Novembro\",\"Novembro\",\"Novembro\",\"Novembro\",\"Novembro\",\"Novembro\",\"Novembro\",\"Dezembro\",\"Dezembro\",\"Dezembro\",\"Dezembro\",\"Dezembro\",\"Dezembro\",\"Dezembro\",\"Dezembro\"],\"xaxis\":\"x\",\"y\":[746,1047,1266,1073,1085,792,841,887,727,759,642,960,518,952,670,683,860,747,1191,941,1257,644,714,1000,1180,996,809,718,279,862,617,439,662,530,609,626,899,939,1045,591,859,930,1145,950,1097,811,810,966,897,851,919,811,821,1102,1188,937,728,647,534,976,749,845,995,976,1186,974,1227,1038,1528,942,714,1270,1052,1256,1010,1056,719,1172,932,734,1265,1024,933,1041,1077,1012,1478,771,941,1415,1164,911,1380,1199,1040,998,448,916,1139,1186,1284,1451,1057,1253,1444,1753,1107,745,1044,1298,1100,1443,934,1553,1233,1065,1005,857,842,630,909,701,1032,603,1536,994,1441,1400,1300,692,1066,1083,1020,1258,1226,743,1143,1069,979,939,1515,689,667,740,787,528,1162,779,598,930,773,1232,1248,784,815,992,743,1206,1252,723,1194,1109,1323,1205,1244,751,1068,1048,836,818,1107,915,1162,987,913,1336,1409,1104,528,1029,881,701,1359,625,538,886,938,1388,1471,761,1039,1238,1220,1527,1183,774,1196,389,755,1377,1075,1305,1317,980,792,1399,1275,2027,1444,1889,1083,1573,1243,1272,1304,1346,1665,2357,1697,1978,1431,1357,1995,2226,1403,1420,1758,2058,2075,2619,1859,1241,2645,1704,1295,1817,1447,1247,2236,1992,1751,2175,1264,1724,1844,2080,1731,2216,1417,2880,1779,1627,1759,1962,2464,3359,1699,2310,2154,3088,2334,2655,2865,2107,2694,2853,2004,3054,2294,2730,3270,2411,1692,2439,2661,2714,2006,2102,1970,1911,3341,2554,2001,2460,617],\"yaxis\":\"y\",\"type\":\"histogram\"}],                        {\"template\":{\"data\":{\"bar\":[{\"error_x\":{\"color\":\"#2a3f5f\"},\"error_y\":{\"color\":\"#2a3f5f\"},\"marker\":{\"line\":{\"color\":\"#E5ECF6\",\"width\":0.5},\"pattern\":{\"fillmode\":\"overlay\",\"size\":10,\"solidity\":0.2}},\"type\":\"bar\"}],\"barpolar\":[{\"marker\":{\"line\":{\"color\":\"#E5ECF6\",\"width\":0.5},\"pattern\":{\"fillmode\":\"overlay\",\"size\":10,\"solidity\":0.2}},\"type\":\"barpolar\"}],\"carpet\":[{\"aaxis\":{\"endlinecolor\":\"#2a3f5f\",\"gridcolor\":\"white\",\"linecolor\":\"white\",\"minorgridcolor\":\"white\",\"startlinecolor\":\"#2a3f5f\"},\"baxis\":{\"endlinecolor\":\"#2a3f5f\",\"gridcolor\":\"white\",\"linecolor\":\"white\",\"minorgridcolor\":\"white\",\"startlinecolor\":\"#2a3f5f\"},\"type\":\"carpet\"}],\"choropleth\":[{\"colorbar\":{\"outlinewidth\":0,\"ticks\":\"\"},\"type\":\"choropleth\"}],\"contour\":[{\"colorbar\":{\"outlinewidth\":0,\"ticks\":\"\"},\"colorscale\":[[0.0,\"#0d0887\"],[0.1111111111111111,\"#46039f\"],[0.2222222222222222,\"#7201a8\"],[0.3333333333333333,\"#9c179e\"],[0.4444444444444444,\"#bd3786\"],[0.5555555555555556,\"#d8576b\"],[0.6666666666666666,\"#ed7953\"],[0.7777777777777778,\"#fb9f3a\"],[0.8888888888888888,\"#fdca26\"],[1.0,\"#f0f921\"]],\"type\":\"contour\"}],\"contourcarpet\":[{\"colorbar\":{\"outlinewidth\":0,\"ticks\":\"\"},\"type\":\"contourcarpet\"}],\"heatmap\":[{\"colorbar\":{\"outlinewidth\":0,\"ticks\":\"\"},\"colorscale\":[[0.0,\"#0d0887\"],[0.1111111111111111,\"#46039f\"],[0.2222222222222222,\"#7201a8\"],[0.3333333333333333,\"#9c179e\"],[0.4444444444444444,\"#bd3786\"],[0.5555555555555556,\"#d8576b\"],[0.6666666666666666,\"#ed7953\"],[0.7777777777777778,\"#fb9f3a\"],[0.8888888888888888,\"#fdca26\"],[1.0,\"#f0f921\"]],\"type\":\"heatmap\"}],\"heatmapgl\":[{\"colorbar\":{\"outlinewidth\":0,\"ticks\":\"\"},\"colorscale\":[[0.0,\"#0d0887\"],[0.1111111111111111,\"#46039f\"],[0.2222222222222222,\"#7201a8\"],[0.3333333333333333,\"#9c179e\"],[0.4444444444444444,\"#bd3786\"],[0.5555555555555556,\"#d8576b\"],[0.6666666666666666,\"#ed7953\"],[0.7777777777777778,\"#fb9f3a\"],[0.8888888888888888,\"#fdca26\"],[1.0,\"#f0f921\"]],\"type\":\"heatmapgl\"}],\"histogram\":[{\"marker\":{\"pattern\":{\"fillmode\":\"overlay\",\"size\":10,\"solidity\":0.2}},\"type\":\"histogram\"}],\"histogram2d\":[{\"colorbar\":{\"outlinewidth\":0,\"ticks\":\"\"},\"colorscale\":[[0.0,\"#0d0887\"],[0.1111111111111111,\"#46039f\"],[0.2222222222222222,\"#7201a8\"],[0.3333333333333333,\"#9c179e\"],[0.4444444444444444,\"#bd3786\"],[0.5555555555555556,\"#d8576b\"],[0.6666666666666666,\"#ed7953\"],[0.7777777777777778,\"#fb9f3a\"],[0.8888888888888888,\"#fdca26\"],[1.0,\"#f0f921\"]],\"type\":\"histogram2d\"}],\"histogram2dcontour\":[{\"colorbar\":{\"outlinewidth\":0,\"ticks\":\"\"},\"colorscale\":[[0.0,\"#0d0887\"],[0.1111111111111111,\"#46039f\"],[0.2222222222222222,\"#7201a8\"],[0.3333333333333333,\"#9c179e\"],[0.4444444444444444,\"#bd3786\"],[0.5555555555555556,\"#d8576b\"],[0.6666666666666666,\"#ed7953\"],[0.7777777777777778,\"#fb9f3a\"],[0.8888888888888888,\"#fdca26\"],[1.0,\"#f0f921\"]],\"type\":\"histogram2dcontour\"}],\"mesh3d\":[{\"colorbar\":{\"outlinewidth\":0,\"ticks\":\"\"},\"type\":\"mesh3d\"}],\"parcoords\":[{\"line\":{\"colorbar\":{\"outlinewidth\":0,\"ticks\":\"\"}},\"type\":\"parcoords\"}],\"pie\":[{\"automargin\":true,\"type\":\"pie\"}],\"scatter\":[{\"marker\":{\"colorbar\":{\"outlinewidth\":0,\"ticks\":\"\"}},\"type\":\"scatter\"}],\"scatter3d\":[{\"line\":{\"colorbar\":{\"outlinewidth\":0,\"ticks\":\"\"}},\"marker\":{\"colorbar\":{\"outlinewidth\":0,\"ticks\":\"\"}},\"type\":\"scatter3d\"}],\"scattercarpet\":[{\"marker\":{\"colorbar\":{\"outlinewidth\":0,\"ticks\":\"\"}},\"type\":\"scattercarpet\"}],\"scattergeo\":[{\"marker\":{\"colorbar\":{\"outlinewidth\":0,\"ticks\":\"\"}},\"type\":\"scattergeo\"}],\"scattergl\":[{\"marker\":{\"colorbar\":{\"outlinewidth\":0,\"ticks\":\"\"}},\"type\":\"scattergl\"}],\"scattermapbox\":[{\"marker\":{\"colorbar\":{\"outlinewidth\":0,\"ticks\":\"\"}},\"type\":\"scattermapbox\"}],\"scatterpolar\":[{\"marker\":{\"colorbar\":{\"outlinewidth\":0,\"ticks\":\"\"}},\"type\":\"scatterpolar\"}],\"scatterpolargl\":[{\"marker\":{\"colorbar\":{\"outlinewidth\":0,\"ticks\":\"\"}},\"type\":\"scatterpolargl\"}],\"scatterternary\":[{\"marker\":{\"colorbar\":{\"outlinewidth\":0,\"ticks\":\"\"}},\"type\":\"scatterternary\"}],\"surface\":[{\"colorbar\":{\"outlinewidth\":0,\"ticks\":\"\"},\"colorscale\":[[0.0,\"#0d0887\"],[0.1111111111111111,\"#46039f\"],[0.2222222222222222,\"#7201a8\"],[0.3333333333333333,\"#9c179e\"],[0.4444444444444444,\"#bd3786\"],[0.5555555555555556,\"#d8576b\"],[0.6666666666666666,\"#ed7953\"],[0.7777777777777778,\"#fb9f3a\"],[0.8888888888888888,\"#fdca26\"],[1.0,\"#f0f921\"]],\"type\":\"surface\"}],\"table\":[{\"cells\":{\"fill\":{\"color\":\"#EBF0F8\"},\"line\":{\"color\":\"white\"}},\"header\":{\"fill\":{\"color\":\"#C8D4E3\"},\"line\":{\"color\":\"white\"}},\"type\":\"table\"}]},\"layout\":{\"annotationdefaults\":{\"arrowcolor\":\"#2a3f5f\",\"arrowhead\":0,\"arrowwidth\":1},\"autotypenumbers\":\"strict\",\"coloraxis\":{\"colorbar\":{\"outlinewidth\":0,\"ticks\":\"\"}},\"colorscale\":{\"diverging\":[[0,\"#8e0152\"],[0.1,\"#c51b7d\"],[0.2,\"#de77ae\"],[0.3,\"#f1b6da\"],[0.4,\"#fde0ef\"],[0.5,\"#f7f7f7\"],[0.6,\"#e6f5d0\"],[0.7,\"#b8e186\"],[0.8,\"#7fbc41\"],[0.9,\"#4d9221\"],[1,\"#276419\"]],\"sequential\":[[0.0,\"#0d0887\"],[0.1111111111111111,\"#46039f\"],[0.2222222222222222,\"#7201a8\"],[0.3333333333333333,\"#9c179e\"],[0.4444444444444444,\"#bd3786\"],[0.5555555555555556,\"#d8576b\"],[0.6666666666666666,\"#ed7953\"],[0.7777777777777778,\"#fb9f3a\"],[0.8888888888888888,\"#fdca26\"],[1.0,\"#f0f921\"]],\"sequentialminus\":[[0.0,\"#0d0887\"],[0.1111111111111111,\"#46039f\"],[0.2222222222222222,\"#7201a8\"],[0.3333333333333333,\"#9c179e\"],[0.4444444444444444,\"#bd3786\"],[0.5555555555555556,\"#d8576b\"],[0.6666666666666666,\"#ed7953\"],[0.7777777777777778,\"#fb9f3a\"],[0.8888888888888888,\"#fdca26\"],[1.0,\"#f0f921\"]]},\"colorway\":[\"#636efa\",\"#EF553B\",\"#00cc96\",\"#ab63fa\",\"#FFA15A\",\"#19d3f3\",\"#FF6692\",\"#B6E880\",\"#FF97FF\",\"#FECB52\"],\"font\":{\"color\":\"#2a3f5f\"},\"geo\":{\"bgcolor\":\"white\",\"lakecolor\":\"white\",\"landcolor\":\"#E5ECF6\",\"showlakes\":true,\"showland\":true,\"subunitcolor\":\"white\"},\"hoverlabel\":{\"align\":\"left\"},\"hovermode\":\"closest\",\"mapbox\":{\"style\":\"light\"},\"paper_bgcolor\":\"white\",\"plot_bgcolor\":\"#E5ECF6\",\"polar\":{\"angularaxis\":{\"gridcolor\":\"white\",\"linecolor\":\"white\",\"ticks\":\"\"},\"bgcolor\":\"#E5ECF6\",\"radialaxis\":{\"gridcolor\":\"white\",\"linecolor\":\"white\",\"ticks\":\"\"}},\"scene\":{\"xaxis\":{\"backgroundcolor\":\"#E5ECF6\",\"gridcolor\":\"white\",\"gridwidth\":2,\"linecolor\":\"white\",\"showbackground\":true,\"ticks\":\"\",\"zerolinecolor\":\"white\"},\"yaxis\":{\"backgroundcolor\":\"#E5ECF6\",\"gridcolor\":\"white\",\"gridwidth\":2,\"linecolor\":\"white\",\"showbackground\":true,\"ticks\":\"\",\"zerolinecolor\":\"white\"},\"zaxis\":{\"backgroundcolor\":\"#E5ECF6\",\"gridcolor\":\"white\",\"gridwidth\":2,\"linecolor\":\"white\",\"showbackground\":true,\"ticks\":\"\",\"zerolinecolor\":\"white\"}},\"shapedefaults\":{\"line\":{\"color\":\"#2a3f5f\"}},\"ternary\":{\"aaxis\":{\"gridcolor\":\"white\",\"linecolor\":\"white\",\"ticks\":\"\"},\"baxis\":{\"gridcolor\":\"white\",\"linecolor\":\"white\",\"ticks\":\"\"},\"bgcolor\":\"#E5ECF6\",\"caxis\":{\"gridcolor\":\"white\",\"linecolor\":\"white\",\"ticks\":\"\"}},\"title\":{\"x\":0.05},\"xaxis\":{\"automargin\":true,\"gridcolor\":\"white\",\"linecolor\":\"white\",\"ticks\":\"\",\"title\":{\"standoff\":15},\"zerolinecolor\":\"white\",\"zerolinewidth\":2},\"yaxis\":{\"automargin\":true,\"gridcolor\":\"white\",\"linecolor\":\"white\",\"ticks\":\"\",\"title\":{\"standoff\":15},\"zerolinecolor\":\"white\",\"zerolinewidth\":2}}},\"xaxis\":{\"anchor\":\"y\",\"domain\":[0.0,1.0],\"title\":{\"text\":\"x\"}},\"yaxis\":{\"anchor\":\"x\",\"domain\":[0.0,1.0],\"title\":{\"text\":\"sum of y\"}},\"legend\":{\"title\":{\"text\":\"color\"},\"tracegroupgap\":0},\"title\":{\"text\":\"Quantidade de vendas em 2010 e 2011\"},\"barmode\":\"relative\"},                        {\"responsive\": true}                    ).then(function(){\n",
       "                            \n",
       "var gd = document.getElementById('ce85ca75-7caf-4635-b129-5b7bb189175d');\n",
       "var x = new MutationObserver(function (mutations, observer) {{\n",
       "        var display = window.getComputedStyle(gd).display;\n",
       "        if (!display || display === 'none') {{\n",
       "            console.log([gd, 'removed!']);\n",
       "            Plotly.purge(gd);\n",
       "            observer.disconnect();\n",
       "        }}\n",
       "}});\n",
       "\n",
       "// Listen for the removal of the full notebook cells\n",
       "var notebookContainer = gd.closest('#notebook-container');\n",
       "if (notebookContainer) {{\n",
       "    x.observe(notebookContainer, {childList: true});\n",
       "}}\n",
       "\n",
       "// Listen for the clearing of the current output cell\n",
       "var outputEl = gd.closest('.output');\n",
       "if (outputEl) {{\n",
       "    x.observe(outputEl, {childList: true});\n",
       "}}\n",
       "\n",
       "                        })                };                });            </script>        </div>"
      ]
     },
     "metadata": {},
     "output_type": "display_data"
    }
   ],
   "source": [
    "    px.histogram(x=df_vendas_filtro['mes'], y=df_vendas_filtro['BillNo'],\n",
    "           color=df_vendas_filtro['ano'], title='Quantidade de vendas em 2010 e 2011')"
   ]
  },
  {
   "cell_type": "markdown",
   "id": "74d434da",
   "metadata": {},
   "source": [
    "#### Em relação ao aumento e ao crescimento das vendas, é possível notar que há uma relação entre ambos.\n",
    "# \n",
    "#### Com base na análise anterior, Dezembro acaba tendo uma queda no aumento e na aceleração por conta do pico que há em novembro"
   ]
  },
  {
   "cell_type": "code",
   "execution_count": 205,
   "id": "e74c51cf",
   "metadata": {},
   "outputs": [
    {
     "data": {
      "application/vnd.plotly.v1+json": {
       "config": {
        "plotlyServerURL": "https://plot.ly"
       },
       "data": [
        {
         "alignmentgroup": "True",
         "bingroup": "x",
         "histfunc": "sum",
         "hovertemplate": "color=2010<br>x=%{x}<br>sum of y=%{y}<extra></extra>",
         "legendgroup": "2010",
         "marker": {
          "color": "#636efa",
          "pattern": {
           "shape": ""
          }
         },
         "name": "2010",
         "offsetgroup": "2010",
         "orientation": "v",
         "showlegend": true,
         "type": "histogram",
         "x": [
          "Dezembro",
          "Dezembro",
          "Dezembro",
          "Dezembro",
          "Dezembro",
          "Dezembro",
          "Dezembro",
          "Dezembro",
          "Dezembro",
          "Dezembro",
          "Dezembro",
          "Dezembro",
          "Dezembro",
          "Dezembro",
          "Dezembro",
          "Dezembro",
          "Dezembro",
          "Dezembro",
          "Dezembro",
          "Dezembro"
         ],
         "xaxis": "x",
         "y": [
          null,
          78,
          -970,
          1679,
          -799,
          -799,
          838,
          -268,
          -351,
          107,
          -169,
          271,
          -249,
          343,
          -949,
          -207,
          353,
          -460,
          -153,
          105
         ],
         "yaxis": "y"
        },
        {
         "alignmentgroup": "True",
         "bingroup": "x",
         "histfunc": "sum",
         "hovertemplate": "color=2011<br>x=%{x}<br>sum of y=%{y}<extra></extra>",
         "legendgroup": "2011",
         "marker": {
          "color": "#EF553B",
          "pattern": {
           "shape": ""
          }
         },
         "name": "2011",
         "offsetgroup": "2011",
         "orientation": "v",
         "showlegend": true,
         "type": "histogram",
         "x": [
          "Janeiro",
          "Janeiro",
          "Janeiro",
          "Janeiro",
          "Janeiro",
          "Janeiro",
          "Janeiro",
          "Janeiro",
          "Janeiro",
          "Janeiro",
          "Janeiro",
          "Janeiro",
          "Janeiro",
          "Janeiro",
          "Janeiro",
          "Janeiro",
          "Janeiro",
          "Janeiro",
          "Janeiro",
          "Janeiro",
          "Janeiro",
          "Janeiro",
          "Janeiro",
          "Janeiro",
          "Feveriero",
          "Feveriero",
          "Feveriero",
          "Feveriero",
          "Feveriero",
          "Feveriero",
          "Feveriero",
          "Feveriero",
          "Feveriero",
          "Feveriero",
          "Feveriero",
          "Feveriero",
          "Feveriero",
          "Feveriero",
          "Feveriero",
          "Feveriero",
          "Feveriero",
          "Feveriero",
          "Feveriero",
          "Feveriero",
          "Feveriero",
          "Feveriero",
          "Feveriero",
          "Feveriero",
          "Marco",
          "Marco",
          "Marco",
          "Marco",
          "Marco",
          "Marco",
          "Marco",
          "Marco",
          "Marco",
          "Marco",
          "Marco",
          "Marco",
          "Marco",
          "Marco",
          "Marco",
          "Marco",
          "Marco",
          "Marco",
          "Marco",
          "Marco",
          "Marco",
          "Marco",
          "Marco",
          "Marco",
          "Marco",
          "Marco",
          "Marco",
          "Abril",
          "Abril",
          "Abril",
          "Abril",
          "Abril",
          "Abril",
          "Abril",
          "Abril",
          "Abril",
          "Abril",
          "Abril",
          "Abril",
          "Abril",
          "Abril",
          "Abril",
          "Abril",
          "Abril",
          "Abril",
          "Abril",
          "Abril",
          "Abril",
          "Maio",
          "Maio",
          "Maio",
          "Maio",
          "Maio",
          "Maio",
          "Maio",
          "Maio",
          "Maio",
          "Maio",
          "Maio",
          "Maio",
          "Maio",
          "Maio",
          "Maio",
          "Maio",
          "Maio",
          "Maio",
          "Maio",
          "Maio",
          "Maio",
          "Maio",
          "Maio",
          "Maio",
          "Maio",
          "Junho",
          "Junho",
          "Junho",
          "Junho",
          "Junho",
          "Junho",
          "Junho",
          "Junho",
          "Junho",
          "Junho",
          "Junho",
          "Junho",
          "Junho",
          "Junho",
          "Junho",
          "Junho",
          "Junho",
          "Junho",
          "Junho",
          "Junho",
          "Junho",
          "Junho",
          "Junho",
          "Junho",
          "Junho",
          "Junho",
          "Julho",
          "Julho",
          "Julho",
          "Julho",
          "Julho",
          "Julho",
          "Julho",
          "Julho",
          "Julho",
          "Julho",
          "Julho",
          "Julho",
          "Julho",
          "Julho",
          "Julho",
          "Julho",
          "Julho",
          "Julho",
          "Julho",
          "Julho",
          "Julho",
          "Julho",
          "Julho",
          "Julho",
          "Julho",
          "Julho",
          "Agosto",
          "Agosto",
          "Agosto",
          "Agosto",
          "Agosto",
          "Agosto",
          "Agosto",
          "Agosto",
          "Agosto",
          "Agosto",
          "Agosto",
          "Agosto",
          "Agosto",
          "Agosto",
          "Agosto",
          "Agosto",
          "Agosto",
          "Agosto",
          "Agosto",
          "Agosto",
          "Agosto",
          "Agosto",
          "Agosto",
          "Agosto",
          "Agosto",
          "Agosto",
          "Setembro",
          "Setembro",
          "Setembro",
          "Setembro",
          "Setembro",
          "Setembro",
          "Setembro",
          "Setembro",
          "Setembro",
          "Setembro",
          "Setembro",
          "Setembro",
          "Setembro",
          "Setembro",
          "Setembro",
          "Setembro",
          "Setembro",
          "Setembro",
          "Setembro",
          "Setembro",
          "Setembro",
          "Setembro",
          "Setembro",
          "Setembro",
          "Setembro",
          "Setembro",
          "Outubro",
          "Outubro",
          "Outubro",
          "Outubro",
          "Outubro",
          "Outubro",
          "Outubro",
          "Outubro",
          "Outubro",
          "Outubro",
          "Outubro",
          "Outubro",
          "Outubro",
          "Outubro",
          "Outubro",
          "Outubro",
          "Outubro",
          "Outubro",
          "Outubro",
          "Outubro",
          "Outubro",
          "Outubro",
          "Outubro",
          "Outubro",
          "Outubro",
          "Outubro",
          "Novembro",
          "Novembro",
          "Novembro",
          "Novembro",
          "Novembro",
          "Novembro",
          "Novembro",
          "Novembro",
          "Novembro",
          "Novembro",
          "Novembro",
          "Novembro",
          "Novembro",
          "Novembro",
          "Novembro",
          "Novembro",
          "Novembro",
          "Novembro",
          "Novembro",
          "Novembro",
          "Novembro",
          "Novembro",
          "Novembro",
          "Novembro",
          "Novembro",
          "Novembro",
          "Dezembro",
          "Dezembro",
          "Dezembro",
          "Dezembro",
          "Dezembro",
          "Dezembro",
          "Dezembro",
          "Dezembro"
         ],
         "xaxis": "x",
         "y": [
          425,
          301,
          219,
          -193,
          12,
          -293,
          49,
          46,
          -160,
          32,
          -117,
          318,
          -442,
          434,
          -282,
          13,
          177,
          -113,
          444,
          -250,
          316,
          -613,
          70,
          286,
          180,
          -184,
          -187,
          -91,
          -439,
          583,
          -245,
          -178,
          223,
          -132,
          79,
          17,
          273,
          40,
          106,
          -454,
          268,
          71,
          215,
          -195,
          147,
          -286,
          -1,
          156,
          -69,
          -46,
          68,
          -108,
          10,
          281,
          86,
          -251,
          -209,
          -81,
          -113,
          442,
          -227,
          96,
          150,
          -19,
          210,
          -212,
          253,
          -189,
          490,
          -586,
          -228,
          556,
          -218,
          204,
          -246,
          46,
          -337,
          453,
          -240,
          -198,
          531,
          -241,
          -91,
          108,
          36,
          -65,
          466,
          -707,
          170,
          474,
          -251,
          -253,
          469,
          -181,
          -159,
          -42,
          -550,
          468,
          223,
          47,
          98,
          167,
          -394,
          196,
          191,
          309,
          -646,
          -362,
          299,
          254,
          -198,
          343,
          -509,
          619,
          -320,
          -168,
          -60,
          -148,
          -15,
          -212,
          279,
          -208,
          331,
          -429,
          933,
          -542,
          447,
          -41,
          -100,
          -608,
          374,
          17,
          -63,
          238,
          -32,
          -483,
          400,
          -74,
          -90,
          -40,
          576,
          -826,
          -22,
          73,
          47,
          -259,
          634,
          -383,
          -181,
          332,
          -157,
          459,
          16,
          -464,
          31,
          177,
          -249,
          463,
          46,
          -529,
          471,
          -85,
          214,
          -118,
          39,
          -493,
          317,
          -20,
          -212,
          -18,
          289,
          -192,
          247,
          -175,
          -74,
          423,
          73,
          -305,
          -576,
          501,
          -148,
          -180,
          658,
          -734,
          -87,
          348,
          52,
          450,
          83,
          -710,
          278,
          199,
          -18,
          307,
          -344,
          -409,
          422,
          -807,
          366,
          622,
          -302,
          230,
          12,
          -337,
          -188,
          607,
          -124,
          752,
          -583,
          445,
          -806,
          490,
          -330,
          29,
          32,
          42,
          319,
          692,
          -660,
          281,
          -547,
          -74,
          638,
          231,
          -823,
          17,
          338,
          300,
          17,
          544,
          -760,
          -618,
          1404,
          -941,
          -409,
          522,
          -370,
          -200,
          989,
          -244,
          -241,
          424,
          -911,
          460,
          120,
          236,
          -349,
          485,
          -799,
          1463,
          -1101,
          -152,
          132,
          203,
          502,
          895,
          -1660,
          611,
          -156,
          934,
          -754,
          321,
          210,
          -758,
          587,
          159,
          -849,
          1050,
          -760,
          436,
          540,
          -859,
          -719,
          747,
          222,
          53,
          -708,
          96,
          -132,
          -59,
          1430,
          -787,
          -553,
          459,
          -1843
         ],
         "yaxis": "y"
        }
       ],
       "layout": {
        "barmode": "relative",
        "legend": {
         "title": {
          "text": "color"
         },
         "tracegroupgap": 0
        },
        "template": {
         "data": {
          "bar": [
           {
            "error_x": {
             "color": "#2a3f5f"
            },
            "error_y": {
             "color": "#2a3f5f"
            },
            "marker": {
             "line": {
              "color": "#E5ECF6",
              "width": 0.5
             },
             "pattern": {
              "fillmode": "overlay",
              "size": 10,
              "solidity": 0.2
             }
            },
            "type": "bar"
           }
          ],
          "barpolar": [
           {
            "marker": {
             "line": {
              "color": "#E5ECF6",
              "width": 0.5
             },
             "pattern": {
              "fillmode": "overlay",
              "size": 10,
              "solidity": 0.2
             }
            },
            "type": "barpolar"
           }
          ],
          "carpet": [
           {
            "aaxis": {
             "endlinecolor": "#2a3f5f",
             "gridcolor": "white",
             "linecolor": "white",
             "minorgridcolor": "white",
             "startlinecolor": "#2a3f5f"
            },
            "baxis": {
             "endlinecolor": "#2a3f5f",
             "gridcolor": "white",
             "linecolor": "white",
             "minorgridcolor": "white",
             "startlinecolor": "#2a3f5f"
            },
            "type": "carpet"
           }
          ],
          "choropleth": [
           {
            "colorbar": {
             "outlinewidth": 0,
             "ticks": ""
            },
            "type": "choropleth"
           }
          ],
          "contour": [
           {
            "colorbar": {
             "outlinewidth": 0,
             "ticks": ""
            },
            "colorscale": [
             [
              0,
              "#0d0887"
             ],
             [
              0.1111111111111111,
              "#46039f"
             ],
             [
              0.2222222222222222,
              "#7201a8"
             ],
             [
              0.3333333333333333,
              "#9c179e"
             ],
             [
              0.4444444444444444,
              "#bd3786"
             ],
             [
              0.5555555555555556,
              "#d8576b"
             ],
             [
              0.6666666666666666,
              "#ed7953"
             ],
             [
              0.7777777777777778,
              "#fb9f3a"
             ],
             [
              0.8888888888888888,
              "#fdca26"
             ],
             [
              1,
              "#f0f921"
             ]
            ],
            "type": "contour"
           }
          ],
          "contourcarpet": [
           {
            "colorbar": {
             "outlinewidth": 0,
             "ticks": ""
            },
            "type": "contourcarpet"
           }
          ],
          "heatmap": [
           {
            "colorbar": {
             "outlinewidth": 0,
             "ticks": ""
            },
            "colorscale": [
             [
              0,
              "#0d0887"
             ],
             [
              0.1111111111111111,
              "#46039f"
             ],
             [
              0.2222222222222222,
              "#7201a8"
             ],
             [
              0.3333333333333333,
              "#9c179e"
             ],
             [
              0.4444444444444444,
              "#bd3786"
             ],
             [
              0.5555555555555556,
              "#d8576b"
             ],
             [
              0.6666666666666666,
              "#ed7953"
             ],
             [
              0.7777777777777778,
              "#fb9f3a"
             ],
             [
              0.8888888888888888,
              "#fdca26"
             ],
             [
              1,
              "#f0f921"
             ]
            ],
            "type": "heatmap"
           }
          ],
          "heatmapgl": [
           {
            "colorbar": {
             "outlinewidth": 0,
             "ticks": ""
            },
            "colorscale": [
             [
              0,
              "#0d0887"
             ],
             [
              0.1111111111111111,
              "#46039f"
             ],
             [
              0.2222222222222222,
              "#7201a8"
             ],
             [
              0.3333333333333333,
              "#9c179e"
             ],
             [
              0.4444444444444444,
              "#bd3786"
             ],
             [
              0.5555555555555556,
              "#d8576b"
             ],
             [
              0.6666666666666666,
              "#ed7953"
             ],
             [
              0.7777777777777778,
              "#fb9f3a"
             ],
             [
              0.8888888888888888,
              "#fdca26"
             ],
             [
              1,
              "#f0f921"
             ]
            ],
            "type": "heatmapgl"
           }
          ],
          "histogram": [
           {
            "marker": {
             "pattern": {
              "fillmode": "overlay",
              "size": 10,
              "solidity": 0.2
             }
            },
            "type": "histogram"
           }
          ],
          "histogram2d": [
           {
            "colorbar": {
             "outlinewidth": 0,
             "ticks": ""
            },
            "colorscale": [
             [
              0,
              "#0d0887"
             ],
             [
              0.1111111111111111,
              "#46039f"
             ],
             [
              0.2222222222222222,
              "#7201a8"
             ],
             [
              0.3333333333333333,
              "#9c179e"
             ],
             [
              0.4444444444444444,
              "#bd3786"
             ],
             [
              0.5555555555555556,
              "#d8576b"
             ],
             [
              0.6666666666666666,
              "#ed7953"
             ],
             [
              0.7777777777777778,
              "#fb9f3a"
             ],
             [
              0.8888888888888888,
              "#fdca26"
             ],
             [
              1,
              "#f0f921"
             ]
            ],
            "type": "histogram2d"
           }
          ],
          "histogram2dcontour": [
           {
            "colorbar": {
             "outlinewidth": 0,
             "ticks": ""
            },
            "colorscale": [
             [
              0,
              "#0d0887"
             ],
             [
              0.1111111111111111,
              "#46039f"
             ],
             [
              0.2222222222222222,
              "#7201a8"
             ],
             [
              0.3333333333333333,
              "#9c179e"
             ],
             [
              0.4444444444444444,
              "#bd3786"
             ],
             [
              0.5555555555555556,
              "#d8576b"
             ],
             [
              0.6666666666666666,
              "#ed7953"
             ],
             [
              0.7777777777777778,
              "#fb9f3a"
             ],
             [
              0.8888888888888888,
              "#fdca26"
             ],
             [
              1,
              "#f0f921"
             ]
            ],
            "type": "histogram2dcontour"
           }
          ],
          "mesh3d": [
           {
            "colorbar": {
             "outlinewidth": 0,
             "ticks": ""
            },
            "type": "mesh3d"
           }
          ],
          "parcoords": [
           {
            "line": {
             "colorbar": {
              "outlinewidth": 0,
              "ticks": ""
             }
            },
            "type": "parcoords"
           }
          ],
          "pie": [
           {
            "automargin": true,
            "type": "pie"
           }
          ],
          "scatter": [
           {
            "marker": {
             "colorbar": {
              "outlinewidth": 0,
              "ticks": ""
             }
            },
            "type": "scatter"
           }
          ],
          "scatter3d": [
           {
            "line": {
             "colorbar": {
              "outlinewidth": 0,
              "ticks": ""
             }
            },
            "marker": {
             "colorbar": {
              "outlinewidth": 0,
              "ticks": ""
             }
            },
            "type": "scatter3d"
           }
          ],
          "scattercarpet": [
           {
            "marker": {
             "colorbar": {
              "outlinewidth": 0,
              "ticks": ""
             }
            },
            "type": "scattercarpet"
           }
          ],
          "scattergeo": [
           {
            "marker": {
             "colorbar": {
              "outlinewidth": 0,
              "ticks": ""
             }
            },
            "type": "scattergeo"
           }
          ],
          "scattergl": [
           {
            "marker": {
             "colorbar": {
              "outlinewidth": 0,
              "ticks": ""
             }
            },
            "type": "scattergl"
           }
          ],
          "scattermapbox": [
           {
            "marker": {
             "colorbar": {
              "outlinewidth": 0,
              "ticks": ""
             }
            },
            "type": "scattermapbox"
           }
          ],
          "scatterpolar": [
           {
            "marker": {
             "colorbar": {
              "outlinewidth": 0,
              "ticks": ""
             }
            },
            "type": "scatterpolar"
           }
          ],
          "scatterpolargl": [
           {
            "marker": {
             "colorbar": {
              "outlinewidth": 0,
              "ticks": ""
             }
            },
            "type": "scatterpolargl"
           }
          ],
          "scatterternary": [
           {
            "marker": {
             "colorbar": {
              "outlinewidth": 0,
              "ticks": ""
             }
            },
            "type": "scatterternary"
           }
          ],
          "surface": [
           {
            "colorbar": {
             "outlinewidth": 0,
             "ticks": ""
            },
            "colorscale": [
             [
              0,
              "#0d0887"
             ],
             [
              0.1111111111111111,
              "#46039f"
             ],
             [
              0.2222222222222222,
              "#7201a8"
             ],
             [
              0.3333333333333333,
              "#9c179e"
             ],
             [
              0.4444444444444444,
              "#bd3786"
             ],
             [
              0.5555555555555556,
              "#d8576b"
             ],
             [
              0.6666666666666666,
              "#ed7953"
             ],
             [
              0.7777777777777778,
              "#fb9f3a"
             ],
             [
              0.8888888888888888,
              "#fdca26"
             ],
             [
              1,
              "#f0f921"
             ]
            ],
            "type": "surface"
           }
          ],
          "table": [
           {
            "cells": {
             "fill": {
              "color": "#EBF0F8"
             },
             "line": {
              "color": "white"
             }
            },
            "header": {
             "fill": {
              "color": "#C8D4E3"
             },
             "line": {
              "color": "white"
             }
            },
            "type": "table"
           }
          ]
         },
         "layout": {
          "annotationdefaults": {
           "arrowcolor": "#2a3f5f",
           "arrowhead": 0,
           "arrowwidth": 1
          },
          "autotypenumbers": "strict",
          "coloraxis": {
           "colorbar": {
            "outlinewidth": 0,
            "ticks": ""
           }
          },
          "colorscale": {
           "diverging": [
            [
             0,
             "#8e0152"
            ],
            [
             0.1,
             "#c51b7d"
            ],
            [
             0.2,
             "#de77ae"
            ],
            [
             0.3,
             "#f1b6da"
            ],
            [
             0.4,
             "#fde0ef"
            ],
            [
             0.5,
             "#f7f7f7"
            ],
            [
             0.6,
             "#e6f5d0"
            ],
            [
             0.7,
             "#b8e186"
            ],
            [
             0.8,
             "#7fbc41"
            ],
            [
             0.9,
             "#4d9221"
            ],
            [
             1,
             "#276419"
            ]
           ],
           "sequential": [
            [
             0,
             "#0d0887"
            ],
            [
             0.1111111111111111,
             "#46039f"
            ],
            [
             0.2222222222222222,
             "#7201a8"
            ],
            [
             0.3333333333333333,
             "#9c179e"
            ],
            [
             0.4444444444444444,
             "#bd3786"
            ],
            [
             0.5555555555555556,
             "#d8576b"
            ],
            [
             0.6666666666666666,
             "#ed7953"
            ],
            [
             0.7777777777777778,
             "#fb9f3a"
            ],
            [
             0.8888888888888888,
             "#fdca26"
            ],
            [
             1,
             "#f0f921"
            ]
           ],
           "sequentialminus": [
            [
             0,
             "#0d0887"
            ],
            [
             0.1111111111111111,
             "#46039f"
            ],
            [
             0.2222222222222222,
             "#7201a8"
            ],
            [
             0.3333333333333333,
             "#9c179e"
            ],
            [
             0.4444444444444444,
             "#bd3786"
            ],
            [
             0.5555555555555556,
             "#d8576b"
            ],
            [
             0.6666666666666666,
             "#ed7953"
            ],
            [
             0.7777777777777778,
             "#fb9f3a"
            ],
            [
             0.8888888888888888,
             "#fdca26"
            ],
            [
             1,
             "#f0f921"
            ]
           ]
          },
          "colorway": [
           "#636efa",
           "#EF553B",
           "#00cc96",
           "#ab63fa",
           "#FFA15A",
           "#19d3f3",
           "#FF6692",
           "#B6E880",
           "#FF97FF",
           "#FECB52"
          ],
          "font": {
           "color": "#2a3f5f"
          },
          "geo": {
           "bgcolor": "white",
           "lakecolor": "white",
           "landcolor": "#E5ECF6",
           "showlakes": true,
           "showland": true,
           "subunitcolor": "white"
          },
          "hoverlabel": {
           "align": "left"
          },
          "hovermode": "closest",
          "mapbox": {
           "style": "light"
          },
          "paper_bgcolor": "white",
          "plot_bgcolor": "#E5ECF6",
          "polar": {
           "angularaxis": {
            "gridcolor": "white",
            "linecolor": "white",
            "ticks": ""
           },
           "bgcolor": "#E5ECF6",
           "radialaxis": {
            "gridcolor": "white",
            "linecolor": "white",
            "ticks": ""
           }
          },
          "scene": {
           "xaxis": {
            "backgroundcolor": "#E5ECF6",
            "gridcolor": "white",
            "gridwidth": 2,
            "linecolor": "white",
            "showbackground": true,
            "ticks": "",
            "zerolinecolor": "white"
           },
           "yaxis": {
            "backgroundcolor": "#E5ECF6",
            "gridcolor": "white",
            "gridwidth": 2,
            "linecolor": "white",
            "showbackground": true,
            "ticks": "",
            "zerolinecolor": "white"
           },
           "zaxis": {
            "backgroundcolor": "#E5ECF6",
            "gridcolor": "white",
            "gridwidth": 2,
            "linecolor": "white",
            "showbackground": true,
            "ticks": "",
            "zerolinecolor": "white"
           }
          },
          "shapedefaults": {
           "line": {
            "color": "#2a3f5f"
           }
          },
          "ternary": {
           "aaxis": {
            "gridcolor": "white",
            "linecolor": "white",
            "ticks": ""
           },
           "baxis": {
            "gridcolor": "white",
            "linecolor": "white",
            "ticks": ""
           },
           "bgcolor": "#E5ECF6",
           "caxis": {
            "gridcolor": "white",
            "linecolor": "white",
            "ticks": ""
           }
          },
          "title": {
           "x": 0.05
          },
          "xaxis": {
           "automargin": true,
           "gridcolor": "white",
           "linecolor": "white",
           "ticks": "",
           "title": {
            "standoff": 15
           },
           "zerolinecolor": "white",
           "zerolinewidth": 2
          },
          "yaxis": {
           "automargin": true,
           "gridcolor": "white",
           "linecolor": "white",
           "ticks": "",
           "title": {
            "standoff": 15
           },
           "zerolinecolor": "white",
           "zerolinewidth": 2
          }
         }
        },
        "title": {
         "text": "Aumento/descrescimo das vendas em 2010 e 2011"
        },
        "xaxis": {
         "anchor": "y",
         "domain": [
          0,
          1
         ],
         "title": {
          "text": "x"
         }
        },
        "yaxis": {
         "anchor": "x",
         "domain": [
          0,
          1
         ],
         "title": {
          "text": "sum of y"
         }
        }
       }
      },
      "text/html": [
       "<div>                            <div id=\"906094d3-de57-4f32-950b-287cac17ce53\" class=\"plotly-graph-div\" style=\"height:525px; width:100%;\"></div>            <script type=\"text/javascript\">                require([\"plotly\"], function(Plotly) {                    window.PLOTLYENV=window.PLOTLYENV || {};                                    if (document.getElementById(\"906094d3-de57-4f32-950b-287cac17ce53\")) {                    Plotly.newPlot(                        \"906094d3-de57-4f32-950b-287cac17ce53\",                        [{\"alignmentgroup\":\"True\",\"bingroup\":\"x\",\"histfunc\":\"sum\",\"hovertemplate\":\"color=2010<br>x=%{x}<br>sum of y=%{y}<extra></extra>\",\"legendgroup\":\"2010\",\"marker\":{\"color\":\"#636efa\",\"pattern\":{\"shape\":\"\"}},\"name\":\"2010\",\"offsetgroup\":\"2010\",\"orientation\":\"v\",\"showlegend\":true,\"x\":[\"Dezembro\",\"Dezembro\",\"Dezembro\",\"Dezembro\",\"Dezembro\",\"Dezembro\",\"Dezembro\",\"Dezembro\",\"Dezembro\",\"Dezembro\",\"Dezembro\",\"Dezembro\",\"Dezembro\",\"Dezembro\",\"Dezembro\",\"Dezembro\",\"Dezembro\",\"Dezembro\",\"Dezembro\",\"Dezembro\"],\"xaxis\":\"x\",\"y\":[null,78.0,-970.0,1679.0,-799.0,-799.0,838.0,-268.0,-351.0,107.0,-169.0,271.0,-249.0,343.0,-949.0,-207.0,353.0,-460.0,-153.0,105.0],\"yaxis\":\"y\",\"type\":\"histogram\"},{\"alignmentgroup\":\"True\",\"bingroup\":\"x\",\"histfunc\":\"sum\",\"hovertemplate\":\"color=2011<br>x=%{x}<br>sum of y=%{y}<extra></extra>\",\"legendgroup\":\"2011\",\"marker\":{\"color\":\"#EF553B\",\"pattern\":{\"shape\":\"\"}},\"name\":\"2011\",\"offsetgroup\":\"2011\",\"orientation\":\"v\",\"showlegend\":true,\"x\":[\"Janeiro\",\"Janeiro\",\"Janeiro\",\"Janeiro\",\"Janeiro\",\"Janeiro\",\"Janeiro\",\"Janeiro\",\"Janeiro\",\"Janeiro\",\"Janeiro\",\"Janeiro\",\"Janeiro\",\"Janeiro\",\"Janeiro\",\"Janeiro\",\"Janeiro\",\"Janeiro\",\"Janeiro\",\"Janeiro\",\"Janeiro\",\"Janeiro\",\"Janeiro\",\"Janeiro\",\"Feveriero\",\"Feveriero\",\"Feveriero\",\"Feveriero\",\"Feveriero\",\"Feveriero\",\"Feveriero\",\"Feveriero\",\"Feveriero\",\"Feveriero\",\"Feveriero\",\"Feveriero\",\"Feveriero\",\"Feveriero\",\"Feveriero\",\"Feveriero\",\"Feveriero\",\"Feveriero\",\"Feveriero\",\"Feveriero\",\"Feveriero\",\"Feveriero\",\"Feveriero\",\"Feveriero\",\"Marco\",\"Marco\",\"Marco\",\"Marco\",\"Marco\",\"Marco\",\"Marco\",\"Marco\",\"Marco\",\"Marco\",\"Marco\",\"Marco\",\"Marco\",\"Marco\",\"Marco\",\"Marco\",\"Marco\",\"Marco\",\"Marco\",\"Marco\",\"Marco\",\"Marco\",\"Marco\",\"Marco\",\"Marco\",\"Marco\",\"Marco\",\"Abril\",\"Abril\",\"Abril\",\"Abril\",\"Abril\",\"Abril\",\"Abril\",\"Abril\",\"Abril\",\"Abril\",\"Abril\",\"Abril\",\"Abril\",\"Abril\",\"Abril\",\"Abril\",\"Abril\",\"Abril\",\"Abril\",\"Abril\",\"Abril\",\"Maio\",\"Maio\",\"Maio\",\"Maio\",\"Maio\",\"Maio\",\"Maio\",\"Maio\",\"Maio\",\"Maio\",\"Maio\",\"Maio\",\"Maio\",\"Maio\",\"Maio\",\"Maio\",\"Maio\",\"Maio\",\"Maio\",\"Maio\",\"Maio\",\"Maio\",\"Maio\",\"Maio\",\"Maio\",\"Junho\",\"Junho\",\"Junho\",\"Junho\",\"Junho\",\"Junho\",\"Junho\",\"Junho\",\"Junho\",\"Junho\",\"Junho\",\"Junho\",\"Junho\",\"Junho\",\"Junho\",\"Junho\",\"Junho\",\"Junho\",\"Junho\",\"Junho\",\"Junho\",\"Junho\",\"Junho\",\"Junho\",\"Junho\",\"Junho\",\"Julho\",\"Julho\",\"Julho\",\"Julho\",\"Julho\",\"Julho\",\"Julho\",\"Julho\",\"Julho\",\"Julho\",\"Julho\",\"Julho\",\"Julho\",\"Julho\",\"Julho\",\"Julho\",\"Julho\",\"Julho\",\"Julho\",\"Julho\",\"Julho\",\"Julho\",\"Julho\",\"Julho\",\"Julho\",\"Julho\",\"Agosto\",\"Agosto\",\"Agosto\",\"Agosto\",\"Agosto\",\"Agosto\",\"Agosto\",\"Agosto\",\"Agosto\",\"Agosto\",\"Agosto\",\"Agosto\",\"Agosto\",\"Agosto\",\"Agosto\",\"Agosto\",\"Agosto\",\"Agosto\",\"Agosto\",\"Agosto\",\"Agosto\",\"Agosto\",\"Agosto\",\"Agosto\",\"Agosto\",\"Agosto\",\"Setembro\",\"Setembro\",\"Setembro\",\"Setembro\",\"Setembro\",\"Setembro\",\"Setembro\",\"Setembro\",\"Setembro\",\"Setembro\",\"Setembro\",\"Setembro\",\"Setembro\",\"Setembro\",\"Setembro\",\"Setembro\",\"Setembro\",\"Setembro\",\"Setembro\",\"Setembro\",\"Setembro\",\"Setembro\",\"Setembro\",\"Setembro\",\"Setembro\",\"Setembro\",\"Outubro\",\"Outubro\",\"Outubro\",\"Outubro\",\"Outubro\",\"Outubro\",\"Outubro\",\"Outubro\",\"Outubro\",\"Outubro\",\"Outubro\",\"Outubro\",\"Outubro\",\"Outubro\",\"Outubro\",\"Outubro\",\"Outubro\",\"Outubro\",\"Outubro\",\"Outubro\",\"Outubro\",\"Outubro\",\"Outubro\",\"Outubro\",\"Outubro\",\"Outubro\",\"Novembro\",\"Novembro\",\"Novembro\",\"Novembro\",\"Novembro\",\"Novembro\",\"Novembro\",\"Novembro\",\"Novembro\",\"Novembro\",\"Novembro\",\"Novembro\",\"Novembro\",\"Novembro\",\"Novembro\",\"Novembro\",\"Novembro\",\"Novembro\",\"Novembro\",\"Novembro\",\"Novembro\",\"Novembro\",\"Novembro\",\"Novembro\",\"Novembro\",\"Novembro\",\"Dezembro\",\"Dezembro\",\"Dezembro\",\"Dezembro\",\"Dezembro\",\"Dezembro\",\"Dezembro\",\"Dezembro\"],\"xaxis\":\"x\",\"y\":[425.0,301.0,219.0,-193.0,12.0,-293.0,49.0,46.0,-160.0,32.0,-117.0,318.0,-442.0,434.0,-282.0,13.0,177.0,-113.0,444.0,-250.0,316.0,-613.0,70.0,286.0,180.0,-184.0,-187.0,-91.0,-439.0,583.0,-245.0,-178.0,223.0,-132.0,79.0,17.0,273.0,40.0,106.0,-454.0,268.0,71.0,215.0,-195.0,147.0,-286.0,-1.0,156.0,-69.0,-46.0,68.0,-108.0,10.0,281.0,86.0,-251.0,-209.0,-81.0,-113.0,442.0,-227.0,96.0,150.0,-19.0,210.0,-212.0,253.0,-189.0,490.0,-586.0,-228.0,556.0,-218.0,204.0,-246.0,46.0,-337.0,453.0,-240.0,-198.0,531.0,-241.0,-91.0,108.0,36.0,-65.0,466.0,-707.0,170.0,474.0,-251.0,-253.0,469.0,-181.0,-159.0,-42.0,-550.0,468.0,223.0,47.0,98.0,167.0,-394.0,196.0,191.0,309.0,-646.0,-362.0,299.0,254.0,-198.0,343.0,-509.0,619.0,-320.0,-168.0,-60.0,-148.0,-15.0,-212.0,279.0,-208.0,331.0,-429.0,933.0,-542.0,447.0,-41.0,-100.0,-608.0,374.0,17.0,-63.0,238.0,-32.0,-483.0,400.0,-74.0,-90.0,-40.0,576.0,-826.0,-22.0,73.0,47.0,-259.0,634.0,-383.0,-181.0,332.0,-157.0,459.0,16.0,-464.0,31.0,177.0,-249.0,463.0,46.0,-529.0,471.0,-85.0,214.0,-118.0,39.0,-493.0,317.0,-20.0,-212.0,-18.0,289.0,-192.0,247.0,-175.0,-74.0,423.0,73.0,-305.0,-576.0,501.0,-148.0,-180.0,658.0,-734.0,-87.0,348.0,52.0,450.0,83.0,-710.0,278.0,199.0,-18.0,307.0,-344.0,-409.0,422.0,-807.0,366.0,622.0,-302.0,230.0,12.0,-337.0,-188.0,607.0,-124.0,752.0,-583.0,445.0,-806.0,490.0,-330.0,29.0,32.0,42.0,319.0,692.0,-660.0,281.0,-547.0,-74.0,638.0,231.0,-823.0,17.0,338.0,300.0,17.0,544.0,-760.0,-618.0,1404.0,-941.0,-409.0,522.0,-370.0,-200.0,989.0,-244.0,-241.0,424.0,-911.0,460.0,120.0,236.0,-349.0,485.0,-799.0,1463.0,-1101.0,-152.0,132.0,203.0,502.0,895.0,-1660.0,611.0,-156.0,934.0,-754.0,321.0,210.0,-758.0,587.0,159.0,-849.0,1050.0,-760.0,436.0,540.0,-859.0,-719.0,747.0,222.0,53.0,-708.0,96.0,-132.0,-59.0,1430.0,-787.0,-553.0,459.0,-1843.0],\"yaxis\":\"y\",\"type\":\"histogram\"}],                        {\"template\":{\"data\":{\"bar\":[{\"error_x\":{\"color\":\"#2a3f5f\"},\"error_y\":{\"color\":\"#2a3f5f\"},\"marker\":{\"line\":{\"color\":\"#E5ECF6\",\"width\":0.5},\"pattern\":{\"fillmode\":\"overlay\",\"size\":10,\"solidity\":0.2}},\"type\":\"bar\"}],\"barpolar\":[{\"marker\":{\"line\":{\"color\":\"#E5ECF6\",\"width\":0.5},\"pattern\":{\"fillmode\":\"overlay\",\"size\":10,\"solidity\":0.2}},\"type\":\"barpolar\"}],\"carpet\":[{\"aaxis\":{\"endlinecolor\":\"#2a3f5f\",\"gridcolor\":\"white\",\"linecolor\":\"white\",\"minorgridcolor\":\"white\",\"startlinecolor\":\"#2a3f5f\"},\"baxis\":{\"endlinecolor\":\"#2a3f5f\",\"gridcolor\":\"white\",\"linecolor\":\"white\",\"minorgridcolor\":\"white\",\"startlinecolor\":\"#2a3f5f\"},\"type\":\"carpet\"}],\"choropleth\":[{\"colorbar\":{\"outlinewidth\":0,\"ticks\":\"\"},\"type\":\"choropleth\"}],\"contour\":[{\"colorbar\":{\"outlinewidth\":0,\"ticks\":\"\"},\"colorscale\":[[0.0,\"#0d0887\"],[0.1111111111111111,\"#46039f\"],[0.2222222222222222,\"#7201a8\"],[0.3333333333333333,\"#9c179e\"],[0.4444444444444444,\"#bd3786\"],[0.5555555555555556,\"#d8576b\"],[0.6666666666666666,\"#ed7953\"],[0.7777777777777778,\"#fb9f3a\"],[0.8888888888888888,\"#fdca26\"],[1.0,\"#f0f921\"]],\"type\":\"contour\"}],\"contourcarpet\":[{\"colorbar\":{\"outlinewidth\":0,\"ticks\":\"\"},\"type\":\"contourcarpet\"}],\"heatmap\":[{\"colorbar\":{\"outlinewidth\":0,\"ticks\":\"\"},\"colorscale\":[[0.0,\"#0d0887\"],[0.1111111111111111,\"#46039f\"],[0.2222222222222222,\"#7201a8\"],[0.3333333333333333,\"#9c179e\"],[0.4444444444444444,\"#bd3786\"],[0.5555555555555556,\"#d8576b\"],[0.6666666666666666,\"#ed7953\"],[0.7777777777777778,\"#fb9f3a\"],[0.8888888888888888,\"#fdca26\"],[1.0,\"#f0f921\"]],\"type\":\"heatmap\"}],\"heatmapgl\":[{\"colorbar\":{\"outlinewidth\":0,\"ticks\":\"\"},\"colorscale\":[[0.0,\"#0d0887\"],[0.1111111111111111,\"#46039f\"],[0.2222222222222222,\"#7201a8\"],[0.3333333333333333,\"#9c179e\"],[0.4444444444444444,\"#bd3786\"],[0.5555555555555556,\"#d8576b\"],[0.6666666666666666,\"#ed7953\"],[0.7777777777777778,\"#fb9f3a\"],[0.8888888888888888,\"#fdca26\"],[1.0,\"#f0f921\"]],\"type\":\"heatmapgl\"}],\"histogram\":[{\"marker\":{\"pattern\":{\"fillmode\":\"overlay\",\"size\":10,\"solidity\":0.2}},\"type\":\"histogram\"}],\"histogram2d\":[{\"colorbar\":{\"outlinewidth\":0,\"ticks\":\"\"},\"colorscale\":[[0.0,\"#0d0887\"],[0.1111111111111111,\"#46039f\"],[0.2222222222222222,\"#7201a8\"],[0.3333333333333333,\"#9c179e\"],[0.4444444444444444,\"#bd3786\"],[0.5555555555555556,\"#d8576b\"],[0.6666666666666666,\"#ed7953\"],[0.7777777777777778,\"#fb9f3a\"],[0.8888888888888888,\"#fdca26\"],[1.0,\"#f0f921\"]],\"type\":\"histogram2d\"}],\"histogram2dcontour\":[{\"colorbar\":{\"outlinewidth\":0,\"ticks\":\"\"},\"colorscale\":[[0.0,\"#0d0887\"],[0.1111111111111111,\"#46039f\"],[0.2222222222222222,\"#7201a8\"],[0.3333333333333333,\"#9c179e\"],[0.4444444444444444,\"#bd3786\"],[0.5555555555555556,\"#d8576b\"],[0.6666666666666666,\"#ed7953\"],[0.7777777777777778,\"#fb9f3a\"],[0.8888888888888888,\"#fdca26\"],[1.0,\"#f0f921\"]],\"type\":\"histogram2dcontour\"}],\"mesh3d\":[{\"colorbar\":{\"outlinewidth\":0,\"ticks\":\"\"},\"type\":\"mesh3d\"}],\"parcoords\":[{\"line\":{\"colorbar\":{\"outlinewidth\":0,\"ticks\":\"\"}},\"type\":\"parcoords\"}],\"pie\":[{\"automargin\":true,\"type\":\"pie\"}],\"scatter\":[{\"marker\":{\"colorbar\":{\"outlinewidth\":0,\"ticks\":\"\"}},\"type\":\"scatter\"}],\"scatter3d\":[{\"line\":{\"colorbar\":{\"outlinewidth\":0,\"ticks\":\"\"}},\"marker\":{\"colorbar\":{\"outlinewidth\":0,\"ticks\":\"\"}},\"type\":\"scatter3d\"}],\"scattercarpet\":[{\"marker\":{\"colorbar\":{\"outlinewidth\":0,\"ticks\":\"\"}},\"type\":\"scattercarpet\"}],\"scattergeo\":[{\"marker\":{\"colorbar\":{\"outlinewidth\":0,\"ticks\":\"\"}},\"type\":\"scattergeo\"}],\"scattergl\":[{\"marker\":{\"colorbar\":{\"outlinewidth\":0,\"ticks\":\"\"}},\"type\":\"scattergl\"}],\"scattermapbox\":[{\"marker\":{\"colorbar\":{\"outlinewidth\":0,\"ticks\":\"\"}},\"type\":\"scattermapbox\"}],\"scatterpolar\":[{\"marker\":{\"colorbar\":{\"outlinewidth\":0,\"ticks\":\"\"}},\"type\":\"scatterpolar\"}],\"scatterpolargl\":[{\"marker\":{\"colorbar\":{\"outlinewidth\":0,\"ticks\":\"\"}},\"type\":\"scatterpolargl\"}],\"scatterternary\":[{\"marker\":{\"colorbar\":{\"outlinewidth\":0,\"ticks\":\"\"}},\"type\":\"scatterternary\"}],\"surface\":[{\"colorbar\":{\"outlinewidth\":0,\"ticks\":\"\"},\"colorscale\":[[0.0,\"#0d0887\"],[0.1111111111111111,\"#46039f\"],[0.2222222222222222,\"#7201a8\"],[0.3333333333333333,\"#9c179e\"],[0.4444444444444444,\"#bd3786\"],[0.5555555555555556,\"#d8576b\"],[0.6666666666666666,\"#ed7953\"],[0.7777777777777778,\"#fb9f3a\"],[0.8888888888888888,\"#fdca26\"],[1.0,\"#f0f921\"]],\"type\":\"surface\"}],\"table\":[{\"cells\":{\"fill\":{\"color\":\"#EBF0F8\"},\"line\":{\"color\":\"white\"}},\"header\":{\"fill\":{\"color\":\"#C8D4E3\"},\"line\":{\"color\":\"white\"}},\"type\":\"table\"}]},\"layout\":{\"annotationdefaults\":{\"arrowcolor\":\"#2a3f5f\",\"arrowhead\":0,\"arrowwidth\":1},\"autotypenumbers\":\"strict\",\"coloraxis\":{\"colorbar\":{\"outlinewidth\":0,\"ticks\":\"\"}},\"colorscale\":{\"diverging\":[[0,\"#8e0152\"],[0.1,\"#c51b7d\"],[0.2,\"#de77ae\"],[0.3,\"#f1b6da\"],[0.4,\"#fde0ef\"],[0.5,\"#f7f7f7\"],[0.6,\"#e6f5d0\"],[0.7,\"#b8e186\"],[0.8,\"#7fbc41\"],[0.9,\"#4d9221\"],[1,\"#276419\"]],\"sequential\":[[0.0,\"#0d0887\"],[0.1111111111111111,\"#46039f\"],[0.2222222222222222,\"#7201a8\"],[0.3333333333333333,\"#9c179e\"],[0.4444444444444444,\"#bd3786\"],[0.5555555555555556,\"#d8576b\"],[0.6666666666666666,\"#ed7953\"],[0.7777777777777778,\"#fb9f3a\"],[0.8888888888888888,\"#fdca26\"],[1.0,\"#f0f921\"]],\"sequentialminus\":[[0.0,\"#0d0887\"],[0.1111111111111111,\"#46039f\"],[0.2222222222222222,\"#7201a8\"],[0.3333333333333333,\"#9c179e\"],[0.4444444444444444,\"#bd3786\"],[0.5555555555555556,\"#d8576b\"],[0.6666666666666666,\"#ed7953\"],[0.7777777777777778,\"#fb9f3a\"],[0.8888888888888888,\"#fdca26\"],[1.0,\"#f0f921\"]]},\"colorway\":[\"#636efa\",\"#EF553B\",\"#00cc96\",\"#ab63fa\",\"#FFA15A\",\"#19d3f3\",\"#FF6692\",\"#B6E880\",\"#FF97FF\",\"#FECB52\"],\"font\":{\"color\":\"#2a3f5f\"},\"geo\":{\"bgcolor\":\"white\",\"lakecolor\":\"white\",\"landcolor\":\"#E5ECF6\",\"showlakes\":true,\"showland\":true,\"subunitcolor\":\"white\"},\"hoverlabel\":{\"align\":\"left\"},\"hovermode\":\"closest\",\"mapbox\":{\"style\":\"light\"},\"paper_bgcolor\":\"white\",\"plot_bgcolor\":\"#E5ECF6\",\"polar\":{\"angularaxis\":{\"gridcolor\":\"white\",\"linecolor\":\"white\",\"ticks\":\"\"},\"bgcolor\":\"#E5ECF6\",\"radialaxis\":{\"gridcolor\":\"white\",\"linecolor\":\"white\",\"ticks\":\"\"}},\"scene\":{\"xaxis\":{\"backgroundcolor\":\"#E5ECF6\",\"gridcolor\":\"white\",\"gridwidth\":2,\"linecolor\":\"white\",\"showbackground\":true,\"ticks\":\"\",\"zerolinecolor\":\"white\"},\"yaxis\":{\"backgroundcolor\":\"#E5ECF6\",\"gridcolor\":\"white\",\"gridwidth\":2,\"linecolor\":\"white\",\"showbackground\":true,\"ticks\":\"\",\"zerolinecolor\":\"white\"},\"zaxis\":{\"backgroundcolor\":\"#E5ECF6\",\"gridcolor\":\"white\",\"gridwidth\":2,\"linecolor\":\"white\",\"showbackground\":true,\"ticks\":\"\",\"zerolinecolor\":\"white\"}},\"shapedefaults\":{\"line\":{\"color\":\"#2a3f5f\"}},\"ternary\":{\"aaxis\":{\"gridcolor\":\"white\",\"linecolor\":\"white\",\"ticks\":\"\"},\"baxis\":{\"gridcolor\":\"white\",\"linecolor\":\"white\",\"ticks\":\"\"},\"bgcolor\":\"#E5ECF6\",\"caxis\":{\"gridcolor\":\"white\",\"linecolor\":\"white\",\"ticks\":\"\"}},\"title\":{\"x\":0.05},\"xaxis\":{\"automargin\":true,\"gridcolor\":\"white\",\"linecolor\":\"white\",\"ticks\":\"\",\"title\":{\"standoff\":15},\"zerolinecolor\":\"white\",\"zerolinewidth\":2},\"yaxis\":{\"automargin\":true,\"gridcolor\":\"white\",\"linecolor\":\"white\",\"ticks\":\"\",\"title\":{\"standoff\":15},\"zerolinecolor\":\"white\",\"zerolinewidth\":2}}},\"xaxis\":{\"anchor\":\"y\",\"domain\":[0.0,1.0],\"title\":{\"text\":\"x\"}},\"yaxis\":{\"anchor\":\"x\",\"domain\":[0.0,1.0],\"title\":{\"text\":\"sum of y\"}},\"legend\":{\"title\":{\"text\":\"color\"},\"tracegroupgap\":0},\"title\":{\"text\":\"Aumento/descrescimo das vendas em 2010 e 2011\"},\"barmode\":\"relative\"},                        {\"responsive\": true}                    ).then(function(){\n",
       "                            \n",
       "var gd = document.getElementById('906094d3-de57-4f32-950b-287cac17ce53');\n",
       "var x = new MutationObserver(function (mutations, observer) {{\n",
       "        var display = window.getComputedStyle(gd).display;\n",
       "        if (!display || display === 'none') {{\n",
       "            console.log([gd, 'removed!']);\n",
       "            Plotly.purge(gd);\n",
       "            observer.disconnect();\n",
       "        }}\n",
       "}});\n",
       "\n",
       "// Listen for the removal of the full notebook cells\n",
       "var notebookContainer = gd.closest('#notebook-container');\n",
       "if (notebookContainer) {{\n",
       "    x.observe(notebookContainer, {childList: true});\n",
       "}}\n",
       "\n",
       "// Listen for the clearing of the current output cell\n",
       "var outputEl = gd.closest('.output');\n",
       "if (outputEl) {{\n",
       "    x.observe(outputEl, {childList: true});\n",
       "}}\n",
       "\n",
       "                        })                };                });            </script>        </div>"
      ]
     },
     "metadata": {},
     "output_type": "display_data"
    }
   ],
   "source": [
    "    px.histogram(x=df_vendas_filtro['mes'], y=df_vendas_filtro['Aumento'],\n",
    "           color=df_vendas_filtro['ano'], title='Aumento/descrescimo das vendas em 2010 e 2011')"
   ]
  },
  {
   "cell_type": "code",
   "execution_count": 207,
   "id": "161ee9ed",
   "metadata": {},
   "outputs": [
    {
     "data": {
      "application/vnd.plotly.v1+json": {
       "config": {
        "plotlyServerURL": "https://plot.ly"
       },
       "data": [
        {
         "alignmentgroup": "True",
         "bingroup": "x",
         "histfunc": "sum",
         "hovertemplate": "color=2010<br>x=%{x}<br>sum of y=%{y}<extra></extra>",
         "legendgroup": "2010",
         "marker": {
          "color": "#636efa",
          "pattern": {
           "shape": ""
          }
         },
         "name": "2010",
         "offsetgroup": "2010",
         "orientation": "v",
         "showlegend": true,
         "type": "histogram",
         "x": [
          "Dezembro",
          "Dezembro",
          "Dezembro",
          "Dezembro",
          "Dezembro",
          "Dezembro",
          "Dezembro",
          "Dezembro",
          "Dezembro",
          "Dezembro",
          "Dezembro",
          "Dezembro",
          "Dezembro",
          "Dezembro",
          "Dezembro",
          "Dezembro",
          "Dezembro",
          "Dezembro",
          "Dezembro",
          "Dezembro"
         ],
         "xaxis": "x",
         "y": [
          null,
          null,
          -1048,
          2649,
          -2478,
          0,
          1637,
          -1106,
          -83,
          458,
          -276,
          440,
          -520,
          592,
          -1292,
          742,
          560,
          -813,
          307,
          258
         ],
         "yaxis": "y"
        },
        {
         "alignmentgroup": "True",
         "bingroup": "x",
         "histfunc": "sum",
         "hovertemplate": "color=2011<br>x=%{x}<br>sum of y=%{y}<extra></extra>",
         "legendgroup": "2011",
         "marker": {
          "color": "#EF553B",
          "pattern": {
           "shape": ""
          }
         },
         "name": "2011",
         "offsetgroup": "2011",
         "orientation": "v",
         "showlegend": true,
         "type": "histogram",
         "x": [
          "Janeiro",
          "Janeiro",
          "Janeiro",
          "Janeiro",
          "Janeiro",
          "Janeiro",
          "Janeiro",
          "Janeiro",
          "Janeiro",
          "Janeiro",
          "Janeiro",
          "Janeiro",
          "Janeiro",
          "Janeiro",
          "Janeiro",
          "Janeiro",
          "Janeiro",
          "Janeiro",
          "Janeiro",
          "Janeiro",
          "Janeiro",
          "Janeiro",
          "Janeiro",
          "Janeiro",
          "Feveriero",
          "Feveriero",
          "Feveriero",
          "Feveriero",
          "Feveriero",
          "Feveriero",
          "Feveriero",
          "Feveriero",
          "Feveriero",
          "Feveriero",
          "Feveriero",
          "Feveriero",
          "Feveriero",
          "Feveriero",
          "Feveriero",
          "Feveriero",
          "Feveriero",
          "Feveriero",
          "Feveriero",
          "Feveriero",
          "Feveriero",
          "Feveriero",
          "Feveriero",
          "Feveriero",
          "Marco",
          "Marco",
          "Marco",
          "Marco",
          "Marco",
          "Marco",
          "Marco",
          "Marco",
          "Marco",
          "Marco",
          "Marco",
          "Marco",
          "Marco",
          "Marco",
          "Marco",
          "Marco",
          "Marco",
          "Marco",
          "Marco",
          "Marco",
          "Marco",
          "Marco",
          "Marco",
          "Marco",
          "Marco",
          "Marco",
          "Marco",
          "Abril",
          "Abril",
          "Abril",
          "Abril",
          "Abril",
          "Abril",
          "Abril",
          "Abril",
          "Abril",
          "Abril",
          "Abril",
          "Abril",
          "Abril",
          "Abril",
          "Abril",
          "Abril",
          "Abril",
          "Abril",
          "Abril",
          "Abril",
          "Abril",
          "Maio",
          "Maio",
          "Maio",
          "Maio",
          "Maio",
          "Maio",
          "Maio",
          "Maio",
          "Maio",
          "Maio",
          "Maio",
          "Maio",
          "Maio",
          "Maio",
          "Maio",
          "Maio",
          "Maio",
          "Maio",
          "Maio",
          "Maio",
          "Maio",
          "Maio",
          "Maio",
          "Maio",
          "Maio",
          "Junho",
          "Junho",
          "Junho",
          "Junho",
          "Junho",
          "Junho",
          "Junho",
          "Junho",
          "Junho",
          "Junho",
          "Junho",
          "Junho",
          "Junho",
          "Junho",
          "Junho",
          "Junho",
          "Junho",
          "Junho",
          "Junho",
          "Junho",
          "Junho",
          "Junho",
          "Junho",
          "Junho",
          "Junho",
          "Junho",
          "Julho",
          "Julho",
          "Julho",
          "Julho",
          "Julho",
          "Julho",
          "Julho",
          "Julho",
          "Julho",
          "Julho",
          "Julho",
          "Julho",
          "Julho",
          "Julho",
          "Julho",
          "Julho",
          "Julho",
          "Julho",
          "Julho",
          "Julho",
          "Julho",
          "Julho",
          "Julho",
          "Julho",
          "Julho",
          "Julho",
          "Agosto",
          "Agosto",
          "Agosto",
          "Agosto",
          "Agosto",
          "Agosto",
          "Agosto",
          "Agosto",
          "Agosto",
          "Agosto",
          "Agosto",
          "Agosto",
          "Agosto",
          "Agosto",
          "Agosto",
          "Agosto",
          "Agosto",
          "Agosto",
          "Agosto",
          "Agosto",
          "Agosto",
          "Agosto",
          "Agosto",
          "Agosto",
          "Agosto",
          "Agosto",
          "Setembro",
          "Setembro",
          "Setembro",
          "Setembro",
          "Setembro",
          "Setembro",
          "Setembro",
          "Setembro",
          "Setembro",
          "Setembro",
          "Setembro",
          "Setembro",
          "Setembro",
          "Setembro",
          "Setembro",
          "Setembro",
          "Setembro",
          "Setembro",
          "Setembro",
          "Setembro",
          "Setembro",
          "Setembro",
          "Setembro",
          "Setembro",
          "Setembro",
          "Setembro",
          "Outubro",
          "Outubro",
          "Outubro",
          "Outubro",
          "Outubro",
          "Outubro",
          "Outubro",
          "Outubro",
          "Outubro",
          "Outubro",
          "Outubro",
          "Outubro",
          "Outubro",
          "Outubro",
          "Outubro",
          "Outubro",
          "Outubro",
          "Outubro",
          "Outubro",
          "Outubro",
          "Outubro",
          "Outubro",
          "Outubro",
          "Outubro",
          "Outubro",
          "Outubro",
          "Novembro",
          "Novembro",
          "Novembro",
          "Novembro",
          "Novembro",
          "Novembro",
          "Novembro",
          "Novembro",
          "Novembro",
          "Novembro",
          "Novembro",
          "Novembro",
          "Novembro",
          "Novembro",
          "Novembro",
          "Novembro",
          "Novembro",
          "Novembro",
          "Novembro",
          "Novembro",
          "Novembro",
          "Novembro",
          "Novembro",
          "Novembro",
          "Novembro",
          "Novembro",
          "Dezembro",
          "Dezembro",
          "Dezembro",
          "Dezembro",
          "Dezembro",
          "Dezembro",
          "Dezembro",
          "Dezembro"
         ],
         "xaxis": "x",
         "y": [
          320,
          -124,
          -82,
          -412,
          205,
          -305,
          342,
          -3,
          -206,
          192,
          -149,
          435,
          -760,
          876,
          -716,
          295,
          164,
          -290,
          557,
          -694,
          566,
          -929,
          683,
          216,
          -106,
          -364,
          -3,
          96,
          -348,
          1022,
          -828,
          67,
          401,
          -355,
          211,
          -62,
          256,
          -233,
          66,
          -560,
          722,
          -197,
          144,
          -410,
          342,
          -433,
          285,
          157,
          -225,
          23,
          114,
          -176,
          118,
          271,
          -195,
          -337,
          42,
          128,
          -32,
          555,
          -669,
          323,
          54,
          -169,
          229,
          -422,
          465,
          -442,
          679,
          -1076,
          358,
          784,
          -774,
          422,
          -450,
          292,
          -383,
          790,
          -693,
          42,
          729,
          -772,
          150,
          199,
          -72,
          -101,
          531,
          -1173,
          877,
          304,
          -725,
          -2,
          722,
          -650,
          22,
          117,
          -508,
          1018,
          -245,
          -176,
          51,
          69,
          -561,
          590,
          -5,
          118,
          -955,
          284,
          661,
          -45,
          -452,
          541,
          -852,
          1128,
          -939,
          152,
          108,
          -88,
          133,
          -197,
          491,
          -487,
          539,
          -760,
          1362,
          -1475,
          989,
          -488,
          -59,
          -508,
          982,
          -357,
          -80,
          301,
          -270,
          -451,
          883,
          -474,
          -16,
          50,
          616,
          -1402,
          804,
          95,
          -26,
          -306,
          893,
          -1017,
          202,
          513,
          -489,
          616,
          -443,
          -480,
          495,
          146,
          -426,
          712,
          -417,
          -575,
          1000,
          -556,
          299,
          -332,
          157,
          -532,
          810,
          -337,
          -192,
          194,
          307,
          -481,
          439,
          -422,
          101,
          497,
          -350,
          -378,
          -271,
          1077,
          -649,
          -32,
          838,
          -1392,
          647,
          435,
          -296,
          398,
          -367,
          -793,
          988,
          -79,
          -217,
          325,
          -651,
          -65,
          831,
          -1229,
          1173,
          256,
          -924,
          532,
          -218,
          -349,
          149,
          795,
          -731,
          876,
          -1335,
          1028,
          -1251,
          1296,
          -820,
          359,
          3,
          10,
          277,
          373,
          -1352,
          941,
          -828,
          473,
          712,
          -407,
          -1054,
          840,
          321,
          -38,
          -283,
          527,
          -1304,
          142,
          2022,
          -2345,
          532,
          931,
          -892,
          170,
          1189,
          -1233,
          3,
          665,
          -1335,
          1371,
          -340,
          116,
          -585,
          834,
          -1284,
          2262,
          -2564,
          949,
          284,
          71,
          299,
          393,
          -2555,
          2271,
          -767,
          1090,
          -1688,
          1075,
          -111,
          -968,
          1345,
          -428,
          -1008,
          1899,
          -1810,
          1196,
          104,
          -1399,
          140,
          1466,
          -525,
          -169,
          -761,
          804,
          -228,
          73,
          1489,
          -2217,
          234,
          1012,
          -2302
         ],
         "yaxis": "y"
        }
       ],
       "layout": {
        "barmode": "relative",
        "legend": {
         "title": {
          "text": "color"
         },
         "tracegroupgap": 0
        },
        "template": {
         "data": {
          "bar": [
           {
            "error_x": {
             "color": "#2a3f5f"
            },
            "error_y": {
             "color": "#2a3f5f"
            },
            "marker": {
             "line": {
              "color": "#E5ECF6",
              "width": 0.5
             },
             "pattern": {
              "fillmode": "overlay",
              "size": 10,
              "solidity": 0.2
             }
            },
            "type": "bar"
           }
          ],
          "barpolar": [
           {
            "marker": {
             "line": {
              "color": "#E5ECF6",
              "width": 0.5
             },
             "pattern": {
              "fillmode": "overlay",
              "size": 10,
              "solidity": 0.2
             }
            },
            "type": "barpolar"
           }
          ],
          "carpet": [
           {
            "aaxis": {
             "endlinecolor": "#2a3f5f",
             "gridcolor": "white",
             "linecolor": "white",
             "minorgridcolor": "white",
             "startlinecolor": "#2a3f5f"
            },
            "baxis": {
             "endlinecolor": "#2a3f5f",
             "gridcolor": "white",
             "linecolor": "white",
             "minorgridcolor": "white",
             "startlinecolor": "#2a3f5f"
            },
            "type": "carpet"
           }
          ],
          "choropleth": [
           {
            "colorbar": {
             "outlinewidth": 0,
             "ticks": ""
            },
            "type": "choropleth"
           }
          ],
          "contour": [
           {
            "colorbar": {
             "outlinewidth": 0,
             "ticks": ""
            },
            "colorscale": [
             [
              0,
              "#0d0887"
             ],
             [
              0.1111111111111111,
              "#46039f"
             ],
             [
              0.2222222222222222,
              "#7201a8"
             ],
             [
              0.3333333333333333,
              "#9c179e"
             ],
             [
              0.4444444444444444,
              "#bd3786"
             ],
             [
              0.5555555555555556,
              "#d8576b"
             ],
             [
              0.6666666666666666,
              "#ed7953"
             ],
             [
              0.7777777777777778,
              "#fb9f3a"
             ],
             [
              0.8888888888888888,
              "#fdca26"
             ],
             [
              1,
              "#f0f921"
             ]
            ],
            "type": "contour"
           }
          ],
          "contourcarpet": [
           {
            "colorbar": {
             "outlinewidth": 0,
             "ticks": ""
            },
            "type": "contourcarpet"
           }
          ],
          "heatmap": [
           {
            "colorbar": {
             "outlinewidth": 0,
             "ticks": ""
            },
            "colorscale": [
             [
              0,
              "#0d0887"
             ],
             [
              0.1111111111111111,
              "#46039f"
             ],
             [
              0.2222222222222222,
              "#7201a8"
             ],
             [
              0.3333333333333333,
              "#9c179e"
             ],
             [
              0.4444444444444444,
              "#bd3786"
             ],
             [
              0.5555555555555556,
              "#d8576b"
             ],
             [
              0.6666666666666666,
              "#ed7953"
             ],
             [
              0.7777777777777778,
              "#fb9f3a"
             ],
             [
              0.8888888888888888,
              "#fdca26"
             ],
             [
              1,
              "#f0f921"
             ]
            ],
            "type": "heatmap"
           }
          ],
          "heatmapgl": [
           {
            "colorbar": {
             "outlinewidth": 0,
             "ticks": ""
            },
            "colorscale": [
             [
              0,
              "#0d0887"
             ],
             [
              0.1111111111111111,
              "#46039f"
             ],
             [
              0.2222222222222222,
              "#7201a8"
             ],
             [
              0.3333333333333333,
              "#9c179e"
             ],
             [
              0.4444444444444444,
              "#bd3786"
             ],
             [
              0.5555555555555556,
              "#d8576b"
             ],
             [
              0.6666666666666666,
              "#ed7953"
             ],
             [
              0.7777777777777778,
              "#fb9f3a"
             ],
             [
              0.8888888888888888,
              "#fdca26"
             ],
             [
              1,
              "#f0f921"
             ]
            ],
            "type": "heatmapgl"
           }
          ],
          "histogram": [
           {
            "marker": {
             "pattern": {
              "fillmode": "overlay",
              "size": 10,
              "solidity": 0.2
             }
            },
            "type": "histogram"
           }
          ],
          "histogram2d": [
           {
            "colorbar": {
             "outlinewidth": 0,
             "ticks": ""
            },
            "colorscale": [
             [
              0,
              "#0d0887"
             ],
             [
              0.1111111111111111,
              "#46039f"
             ],
             [
              0.2222222222222222,
              "#7201a8"
             ],
             [
              0.3333333333333333,
              "#9c179e"
             ],
             [
              0.4444444444444444,
              "#bd3786"
             ],
             [
              0.5555555555555556,
              "#d8576b"
             ],
             [
              0.6666666666666666,
              "#ed7953"
             ],
             [
              0.7777777777777778,
              "#fb9f3a"
             ],
             [
              0.8888888888888888,
              "#fdca26"
             ],
             [
              1,
              "#f0f921"
             ]
            ],
            "type": "histogram2d"
           }
          ],
          "histogram2dcontour": [
           {
            "colorbar": {
             "outlinewidth": 0,
             "ticks": ""
            },
            "colorscale": [
             [
              0,
              "#0d0887"
             ],
             [
              0.1111111111111111,
              "#46039f"
             ],
             [
              0.2222222222222222,
              "#7201a8"
             ],
             [
              0.3333333333333333,
              "#9c179e"
             ],
             [
              0.4444444444444444,
              "#bd3786"
             ],
             [
              0.5555555555555556,
              "#d8576b"
             ],
             [
              0.6666666666666666,
              "#ed7953"
             ],
             [
              0.7777777777777778,
              "#fb9f3a"
             ],
             [
              0.8888888888888888,
              "#fdca26"
             ],
             [
              1,
              "#f0f921"
             ]
            ],
            "type": "histogram2dcontour"
           }
          ],
          "mesh3d": [
           {
            "colorbar": {
             "outlinewidth": 0,
             "ticks": ""
            },
            "type": "mesh3d"
           }
          ],
          "parcoords": [
           {
            "line": {
             "colorbar": {
              "outlinewidth": 0,
              "ticks": ""
             }
            },
            "type": "parcoords"
           }
          ],
          "pie": [
           {
            "automargin": true,
            "type": "pie"
           }
          ],
          "scatter": [
           {
            "marker": {
             "colorbar": {
              "outlinewidth": 0,
              "ticks": ""
             }
            },
            "type": "scatter"
           }
          ],
          "scatter3d": [
           {
            "line": {
             "colorbar": {
              "outlinewidth": 0,
              "ticks": ""
             }
            },
            "marker": {
             "colorbar": {
              "outlinewidth": 0,
              "ticks": ""
             }
            },
            "type": "scatter3d"
           }
          ],
          "scattercarpet": [
           {
            "marker": {
             "colorbar": {
              "outlinewidth": 0,
              "ticks": ""
             }
            },
            "type": "scattercarpet"
           }
          ],
          "scattergeo": [
           {
            "marker": {
             "colorbar": {
              "outlinewidth": 0,
              "ticks": ""
             }
            },
            "type": "scattergeo"
           }
          ],
          "scattergl": [
           {
            "marker": {
             "colorbar": {
              "outlinewidth": 0,
              "ticks": ""
             }
            },
            "type": "scattergl"
           }
          ],
          "scattermapbox": [
           {
            "marker": {
             "colorbar": {
              "outlinewidth": 0,
              "ticks": ""
             }
            },
            "type": "scattermapbox"
           }
          ],
          "scatterpolar": [
           {
            "marker": {
             "colorbar": {
              "outlinewidth": 0,
              "ticks": ""
             }
            },
            "type": "scatterpolar"
           }
          ],
          "scatterpolargl": [
           {
            "marker": {
             "colorbar": {
              "outlinewidth": 0,
              "ticks": ""
             }
            },
            "type": "scatterpolargl"
           }
          ],
          "scatterternary": [
           {
            "marker": {
             "colorbar": {
              "outlinewidth": 0,
              "ticks": ""
             }
            },
            "type": "scatterternary"
           }
          ],
          "surface": [
           {
            "colorbar": {
             "outlinewidth": 0,
             "ticks": ""
            },
            "colorscale": [
             [
              0,
              "#0d0887"
             ],
             [
              0.1111111111111111,
              "#46039f"
             ],
             [
              0.2222222222222222,
              "#7201a8"
             ],
             [
              0.3333333333333333,
              "#9c179e"
             ],
             [
              0.4444444444444444,
              "#bd3786"
             ],
             [
              0.5555555555555556,
              "#d8576b"
             ],
             [
              0.6666666666666666,
              "#ed7953"
             ],
             [
              0.7777777777777778,
              "#fb9f3a"
             ],
             [
              0.8888888888888888,
              "#fdca26"
             ],
             [
              1,
              "#f0f921"
             ]
            ],
            "type": "surface"
           }
          ],
          "table": [
           {
            "cells": {
             "fill": {
              "color": "#EBF0F8"
             },
             "line": {
              "color": "white"
             }
            },
            "header": {
             "fill": {
              "color": "#C8D4E3"
             },
             "line": {
              "color": "white"
             }
            },
            "type": "table"
           }
          ]
         },
         "layout": {
          "annotationdefaults": {
           "arrowcolor": "#2a3f5f",
           "arrowhead": 0,
           "arrowwidth": 1
          },
          "autotypenumbers": "strict",
          "coloraxis": {
           "colorbar": {
            "outlinewidth": 0,
            "ticks": ""
           }
          },
          "colorscale": {
           "diverging": [
            [
             0,
             "#8e0152"
            ],
            [
             0.1,
             "#c51b7d"
            ],
            [
             0.2,
             "#de77ae"
            ],
            [
             0.3,
             "#f1b6da"
            ],
            [
             0.4,
             "#fde0ef"
            ],
            [
             0.5,
             "#f7f7f7"
            ],
            [
             0.6,
             "#e6f5d0"
            ],
            [
             0.7,
             "#b8e186"
            ],
            [
             0.8,
             "#7fbc41"
            ],
            [
             0.9,
             "#4d9221"
            ],
            [
             1,
             "#276419"
            ]
           ],
           "sequential": [
            [
             0,
             "#0d0887"
            ],
            [
             0.1111111111111111,
             "#46039f"
            ],
            [
             0.2222222222222222,
             "#7201a8"
            ],
            [
             0.3333333333333333,
             "#9c179e"
            ],
            [
             0.4444444444444444,
             "#bd3786"
            ],
            [
             0.5555555555555556,
             "#d8576b"
            ],
            [
             0.6666666666666666,
             "#ed7953"
            ],
            [
             0.7777777777777778,
             "#fb9f3a"
            ],
            [
             0.8888888888888888,
             "#fdca26"
            ],
            [
             1,
             "#f0f921"
            ]
           ],
           "sequentialminus": [
            [
             0,
             "#0d0887"
            ],
            [
             0.1111111111111111,
             "#46039f"
            ],
            [
             0.2222222222222222,
             "#7201a8"
            ],
            [
             0.3333333333333333,
             "#9c179e"
            ],
            [
             0.4444444444444444,
             "#bd3786"
            ],
            [
             0.5555555555555556,
             "#d8576b"
            ],
            [
             0.6666666666666666,
             "#ed7953"
            ],
            [
             0.7777777777777778,
             "#fb9f3a"
            ],
            [
             0.8888888888888888,
             "#fdca26"
            ],
            [
             1,
             "#f0f921"
            ]
           ]
          },
          "colorway": [
           "#636efa",
           "#EF553B",
           "#00cc96",
           "#ab63fa",
           "#FFA15A",
           "#19d3f3",
           "#FF6692",
           "#B6E880",
           "#FF97FF",
           "#FECB52"
          ],
          "font": {
           "color": "#2a3f5f"
          },
          "geo": {
           "bgcolor": "white",
           "lakecolor": "white",
           "landcolor": "#E5ECF6",
           "showlakes": true,
           "showland": true,
           "subunitcolor": "white"
          },
          "hoverlabel": {
           "align": "left"
          },
          "hovermode": "closest",
          "mapbox": {
           "style": "light"
          },
          "paper_bgcolor": "white",
          "plot_bgcolor": "#E5ECF6",
          "polar": {
           "angularaxis": {
            "gridcolor": "white",
            "linecolor": "white",
            "ticks": ""
           },
           "bgcolor": "#E5ECF6",
           "radialaxis": {
            "gridcolor": "white",
            "linecolor": "white",
            "ticks": ""
           }
          },
          "scene": {
           "xaxis": {
            "backgroundcolor": "#E5ECF6",
            "gridcolor": "white",
            "gridwidth": 2,
            "linecolor": "white",
            "showbackground": true,
            "ticks": "",
            "zerolinecolor": "white"
           },
           "yaxis": {
            "backgroundcolor": "#E5ECF6",
            "gridcolor": "white",
            "gridwidth": 2,
            "linecolor": "white",
            "showbackground": true,
            "ticks": "",
            "zerolinecolor": "white"
           },
           "zaxis": {
            "backgroundcolor": "#E5ECF6",
            "gridcolor": "white",
            "gridwidth": 2,
            "linecolor": "white",
            "showbackground": true,
            "ticks": "",
            "zerolinecolor": "white"
           }
          },
          "shapedefaults": {
           "line": {
            "color": "#2a3f5f"
           }
          },
          "ternary": {
           "aaxis": {
            "gridcolor": "white",
            "linecolor": "white",
            "ticks": ""
           },
           "baxis": {
            "gridcolor": "white",
            "linecolor": "white",
            "ticks": ""
           },
           "bgcolor": "#E5ECF6",
           "caxis": {
            "gridcolor": "white",
            "linecolor": "white",
            "ticks": ""
           }
          },
          "title": {
           "x": 0.05
          },
          "xaxis": {
           "automargin": true,
           "gridcolor": "white",
           "linecolor": "white",
           "ticks": "",
           "title": {
            "standoff": 15
           },
           "zerolinecolor": "white",
           "zerolinewidth": 2
          },
          "yaxis": {
           "automargin": true,
           "gridcolor": "white",
           "linecolor": "white",
           "ticks": "",
           "title": {
            "standoff": 15
           },
           "zerolinecolor": "white",
           "zerolinewidth": 2
          }
         }
        },
        "title": {
         "text": "Aceleração das vendas em 2010 e 2011"
        },
        "xaxis": {
         "anchor": "y",
         "domain": [
          0,
          1
         ],
         "title": {
          "text": "x"
         }
        },
        "yaxis": {
         "anchor": "x",
         "domain": [
          0,
          1
         ],
         "title": {
          "text": "sum of y"
         }
        }
       }
      },
      "text/html": [
       "<div>                            <div id=\"d5bdef43-d5ee-4159-8b58-81aee4c84362\" class=\"plotly-graph-div\" style=\"height:525px; width:100%;\"></div>            <script type=\"text/javascript\">                require([\"plotly\"], function(Plotly) {                    window.PLOTLYENV=window.PLOTLYENV || {};                                    if (document.getElementById(\"d5bdef43-d5ee-4159-8b58-81aee4c84362\")) {                    Plotly.newPlot(                        \"d5bdef43-d5ee-4159-8b58-81aee4c84362\",                        [{\"alignmentgroup\":\"True\",\"bingroup\":\"x\",\"histfunc\":\"sum\",\"hovertemplate\":\"color=2010<br>x=%{x}<br>sum of y=%{y}<extra></extra>\",\"legendgroup\":\"2010\",\"marker\":{\"color\":\"#636efa\",\"pattern\":{\"shape\":\"\"}},\"name\":\"2010\",\"offsetgroup\":\"2010\",\"orientation\":\"v\",\"showlegend\":true,\"x\":[\"Dezembro\",\"Dezembro\",\"Dezembro\",\"Dezembro\",\"Dezembro\",\"Dezembro\",\"Dezembro\",\"Dezembro\",\"Dezembro\",\"Dezembro\",\"Dezembro\",\"Dezembro\",\"Dezembro\",\"Dezembro\",\"Dezembro\",\"Dezembro\",\"Dezembro\",\"Dezembro\",\"Dezembro\",\"Dezembro\"],\"xaxis\":\"x\",\"y\":[null,null,-1048.0,2649.0,-2478.0,0.0,1637.0,-1106.0,-83.0,458.0,-276.0,440.0,-520.0,592.0,-1292.0,742.0,560.0,-813.0,307.0,258.0],\"yaxis\":\"y\",\"type\":\"histogram\"},{\"alignmentgroup\":\"True\",\"bingroup\":\"x\",\"histfunc\":\"sum\",\"hovertemplate\":\"color=2011<br>x=%{x}<br>sum of y=%{y}<extra></extra>\",\"legendgroup\":\"2011\",\"marker\":{\"color\":\"#EF553B\",\"pattern\":{\"shape\":\"\"}},\"name\":\"2011\",\"offsetgroup\":\"2011\",\"orientation\":\"v\",\"showlegend\":true,\"x\":[\"Janeiro\",\"Janeiro\",\"Janeiro\",\"Janeiro\",\"Janeiro\",\"Janeiro\",\"Janeiro\",\"Janeiro\",\"Janeiro\",\"Janeiro\",\"Janeiro\",\"Janeiro\",\"Janeiro\",\"Janeiro\",\"Janeiro\",\"Janeiro\",\"Janeiro\",\"Janeiro\",\"Janeiro\",\"Janeiro\",\"Janeiro\",\"Janeiro\",\"Janeiro\",\"Janeiro\",\"Feveriero\",\"Feveriero\",\"Feveriero\",\"Feveriero\",\"Feveriero\",\"Feveriero\",\"Feveriero\",\"Feveriero\",\"Feveriero\",\"Feveriero\",\"Feveriero\",\"Feveriero\",\"Feveriero\",\"Feveriero\",\"Feveriero\",\"Feveriero\",\"Feveriero\",\"Feveriero\",\"Feveriero\",\"Feveriero\",\"Feveriero\",\"Feveriero\",\"Feveriero\",\"Feveriero\",\"Marco\",\"Marco\",\"Marco\",\"Marco\",\"Marco\",\"Marco\",\"Marco\",\"Marco\",\"Marco\",\"Marco\",\"Marco\",\"Marco\",\"Marco\",\"Marco\",\"Marco\",\"Marco\",\"Marco\",\"Marco\",\"Marco\",\"Marco\",\"Marco\",\"Marco\",\"Marco\",\"Marco\",\"Marco\",\"Marco\",\"Marco\",\"Abril\",\"Abril\",\"Abril\",\"Abril\",\"Abril\",\"Abril\",\"Abril\",\"Abril\",\"Abril\",\"Abril\",\"Abril\",\"Abril\",\"Abril\",\"Abril\",\"Abril\",\"Abril\",\"Abril\",\"Abril\",\"Abril\",\"Abril\",\"Abril\",\"Maio\",\"Maio\",\"Maio\",\"Maio\",\"Maio\",\"Maio\",\"Maio\",\"Maio\",\"Maio\",\"Maio\",\"Maio\",\"Maio\",\"Maio\",\"Maio\",\"Maio\",\"Maio\",\"Maio\",\"Maio\",\"Maio\",\"Maio\",\"Maio\",\"Maio\",\"Maio\",\"Maio\",\"Maio\",\"Junho\",\"Junho\",\"Junho\",\"Junho\",\"Junho\",\"Junho\",\"Junho\",\"Junho\",\"Junho\",\"Junho\",\"Junho\",\"Junho\",\"Junho\",\"Junho\",\"Junho\",\"Junho\",\"Junho\",\"Junho\",\"Junho\",\"Junho\",\"Junho\",\"Junho\",\"Junho\",\"Junho\",\"Junho\",\"Junho\",\"Julho\",\"Julho\",\"Julho\",\"Julho\",\"Julho\",\"Julho\",\"Julho\",\"Julho\",\"Julho\",\"Julho\",\"Julho\",\"Julho\",\"Julho\",\"Julho\",\"Julho\",\"Julho\",\"Julho\",\"Julho\",\"Julho\",\"Julho\",\"Julho\",\"Julho\",\"Julho\",\"Julho\",\"Julho\",\"Julho\",\"Agosto\",\"Agosto\",\"Agosto\",\"Agosto\",\"Agosto\",\"Agosto\",\"Agosto\",\"Agosto\",\"Agosto\",\"Agosto\",\"Agosto\",\"Agosto\",\"Agosto\",\"Agosto\",\"Agosto\",\"Agosto\",\"Agosto\",\"Agosto\",\"Agosto\",\"Agosto\",\"Agosto\",\"Agosto\",\"Agosto\",\"Agosto\",\"Agosto\",\"Agosto\",\"Setembro\",\"Setembro\",\"Setembro\",\"Setembro\",\"Setembro\",\"Setembro\",\"Setembro\",\"Setembro\",\"Setembro\",\"Setembro\",\"Setembro\",\"Setembro\",\"Setembro\",\"Setembro\",\"Setembro\",\"Setembro\",\"Setembro\",\"Setembro\",\"Setembro\",\"Setembro\",\"Setembro\",\"Setembro\",\"Setembro\",\"Setembro\",\"Setembro\",\"Setembro\",\"Outubro\",\"Outubro\",\"Outubro\",\"Outubro\",\"Outubro\",\"Outubro\",\"Outubro\",\"Outubro\",\"Outubro\",\"Outubro\",\"Outubro\",\"Outubro\",\"Outubro\",\"Outubro\",\"Outubro\",\"Outubro\",\"Outubro\",\"Outubro\",\"Outubro\",\"Outubro\",\"Outubro\",\"Outubro\",\"Outubro\",\"Outubro\",\"Outubro\",\"Outubro\",\"Novembro\",\"Novembro\",\"Novembro\",\"Novembro\",\"Novembro\",\"Novembro\",\"Novembro\",\"Novembro\",\"Novembro\",\"Novembro\",\"Novembro\",\"Novembro\",\"Novembro\",\"Novembro\",\"Novembro\",\"Novembro\",\"Novembro\",\"Novembro\",\"Novembro\",\"Novembro\",\"Novembro\",\"Novembro\",\"Novembro\",\"Novembro\",\"Novembro\",\"Novembro\",\"Dezembro\",\"Dezembro\",\"Dezembro\",\"Dezembro\",\"Dezembro\",\"Dezembro\",\"Dezembro\",\"Dezembro\"],\"xaxis\":\"x\",\"y\":[320.0,-124.0,-82.0,-412.0,205.0,-305.0,342.0,-3.0,-206.0,192.0,-149.0,435.0,-760.0,876.0,-716.0,295.0,164.0,-290.0,557.0,-694.0,566.0,-929.0,683.0,216.0,-106.0,-364.0,-3.0,96.0,-348.0,1022.0,-828.0,67.0,401.0,-355.0,211.0,-62.0,256.0,-233.0,66.0,-560.0,722.0,-197.0,144.0,-410.0,342.0,-433.0,285.0,157.0,-225.0,23.0,114.0,-176.0,118.0,271.0,-195.0,-337.0,42.0,128.0,-32.0,555.0,-669.0,323.0,54.0,-169.0,229.0,-422.0,465.0,-442.0,679.0,-1076.0,358.0,784.0,-774.0,422.0,-450.0,292.0,-383.0,790.0,-693.0,42.0,729.0,-772.0,150.0,199.0,-72.0,-101.0,531.0,-1173.0,877.0,304.0,-725.0,-2.0,722.0,-650.0,22.0,117.0,-508.0,1018.0,-245.0,-176.0,51.0,69.0,-561.0,590.0,-5.0,118.0,-955.0,284.0,661.0,-45.0,-452.0,541.0,-852.0,1128.0,-939.0,152.0,108.0,-88.0,133.0,-197.0,491.0,-487.0,539.0,-760.0,1362.0,-1475.0,989.0,-488.0,-59.0,-508.0,982.0,-357.0,-80.0,301.0,-270.0,-451.0,883.0,-474.0,-16.0,50.0,616.0,-1402.0,804.0,95.0,-26.0,-306.0,893.0,-1017.0,202.0,513.0,-489.0,616.0,-443.0,-480.0,495.0,146.0,-426.0,712.0,-417.0,-575.0,1000.0,-556.0,299.0,-332.0,157.0,-532.0,810.0,-337.0,-192.0,194.0,307.0,-481.0,439.0,-422.0,101.0,497.0,-350.0,-378.0,-271.0,1077.0,-649.0,-32.0,838.0,-1392.0,647.0,435.0,-296.0,398.0,-367.0,-793.0,988.0,-79.0,-217.0,325.0,-651.0,-65.0,831.0,-1229.0,1173.0,256.0,-924.0,532.0,-218.0,-349.0,149.0,795.0,-731.0,876.0,-1335.0,1028.0,-1251.0,1296.0,-820.0,359.0,3.0,10.0,277.0,373.0,-1352.0,941.0,-828.0,473.0,712.0,-407.0,-1054.0,840.0,321.0,-38.0,-283.0,527.0,-1304.0,142.0,2022.0,-2345.0,532.0,931.0,-892.0,170.0,1189.0,-1233.0,3.0,665.0,-1335.0,1371.0,-340.0,116.0,-585.0,834.0,-1284.0,2262.0,-2564.0,949.0,284.0,71.0,299.0,393.0,-2555.0,2271.0,-767.0,1090.0,-1688.0,1075.0,-111.0,-968.0,1345.0,-428.0,-1008.0,1899.0,-1810.0,1196.0,104.0,-1399.0,140.0,1466.0,-525.0,-169.0,-761.0,804.0,-228.0,73.0,1489.0,-2217.0,234.0,1012.0,-2302.0],\"yaxis\":\"y\",\"type\":\"histogram\"}],                        {\"template\":{\"data\":{\"bar\":[{\"error_x\":{\"color\":\"#2a3f5f\"},\"error_y\":{\"color\":\"#2a3f5f\"},\"marker\":{\"line\":{\"color\":\"#E5ECF6\",\"width\":0.5},\"pattern\":{\"fillmode\":\"overlay\",\"size\":10,\"solidity\":0.2}},\"type\":\"bar\"}],\"barpolar\":[{\"marker\":{\"line\":{\"color\":\"#E5ECF6\",\"width\":0.5},\"pattern\":{\"fillmode\":\"overlay\",\"size\":10,\"solidity\":0.2}},\"type\":\"barpolar\"}],\"carpet\":[{\"aaxis\":{\"endlinecolor\":\"#2a3f5f\",\"gridcolor\":\"white\",\"linecolor\":\"white\",\"minorgridcolor\":\"white\",\"startlinecolor\":\"#2a3f5f\"},\"baxis\":{\"endlinecolor\":\"#2a3f5f\",\"gridcolor\":\"white\",\"linecolor\":\"white\",\"minorgridcolor\":\"white\",\"startlinecolor\":\"#2a3f5f\"},\"type\":\"carpet\"}],\"choropleth\":[{\"colorbar\":{\"outlinewidth\":0,\"ticks\":\"\"},\"type\":\"choropleth\"}],\"contour\":[{\"colorbar\":{\"outlinewidth\":0,\"ticks\":\"\"},\"colorscale\":[[0.0,\"#0d0887\"],[0.1111111111111111,\"#46039f\"],[0.2222222222222222,\"#7201a8\"],[0.3333333333333333,\"#9c179e\"],[0.4444444444444444,\"#bd3786\"],[0.5555555555555556,\"#d8576b\"],[0.6666666666666666,\"#ed7953\"],[0.7777777777777778,\"#fb9f3a\"],[0.8888888888888888,\"#fdca26\"],[1.0,\"#f0f921\"]],\"type\":\"contour\"}],\"contourcarpet\":[{\"colorbar\":{\"outlinewidth\":0,\"ticks\":\"\"},\"type\":\"contourcarpet\"}],\"heatmap\":[{\"colorbar\":{\"outlinewidth\":0,\"ticks\":\"\"},\"colorscale\":[[0.0,\"#0d0887\"],[0.1111111111111111,\"#46039f\"],[0.2222222222222222,\"#7201a8\"],[0.3333333333333333,\"#9c179e\"],[0.4444444444444444,\"#bd3786\"],[0.5555555555555556,\"#d8576b\"],[0.6666666666666666,\"#ed7953\"],[0.7777777777777778,\"#fb9f3a\"],[0.8888888888888888,\"#fdca26\"],[1.0,\"#f0f921\"]],\"type\":\"heatmap\"}],\"heatmapgl\":[{\"colorbar\":{\"outlinewidth\":0,\"ticks\":\"\"},\"colorscale\":[[0.0,\"#0d0887\"],[0.1111111111111111,\"#46039f\"],[0.2222222222222222,\"#7201a8\"],[0.3333333333333333,\"#9c179e\"],[0.4444444444444444,\"#bd3786\"],[0.5555555555555556,\"#d8576b\"],[0.6666666666666666,\"#ed7953\"],[0.7777777777777778,\"#fb9f3a\"],[0.8888888888888888,\"#fdca26\"],[1.0,\"#f0f921\"]],\"type\":\"heatmapgl\"}],\"histogram\":[{\"marker\":{\"pattern\":{\"fillmode\":\"overlay\",\"size\":10,\"solidity\":0.2}},\"type\":\"histogram\"}],\"histogram2d\":[{\"colorbar\":{\"outlinewidth\":0,\"ticks\":\"\"},\"colorscale\":[[0.0,\"#0d0887\"],[0.1111111111111111,\"#46039f\"],[0.2222222222222222,\"#7201a8\"],[0.3333333333333333,\"#9c179e\"],[0.4444444444444444,\"#bd3786\"],[0.5555555555555556,\"#d8576b\"],[0.6666666666666666,\"#ed7953\"],[0.7777777777777778,\"#fb9f3a\"],[0.8888888888888888,\"#fdca26\"],[1.0,\"#f0f921\"]],\"type\":\"histogram2d\"}],\"histogram2dcontour\":[{\"colorbar\":{\"outlinewidth\":0,\"ticks\":\"\"},\"colorscale\":[[0.0,\"#0d0887\"],[0.1111111111111111,\"#46039f\"],[0.2222222222222222,\"#7201a8\"],[0.3333333333333333,\"#9c179e\"],[0.4444444444444444,\"#bd3786\"],[0.5555555555555556,\"#d8576b\"],[0.6666666666666666,\"#ed7953\"],[0.7777777777777778,\"#fb9f3a\"],[0.8888888888888888,\"#fdca26\"],[1.0,\"#f0f921\"]],\"type\":\"histogram2dcontour\"}],\"mesh3d\":[{\"colorbar\":{\"outlinewidth\":0,\"ticks\":\"\"},\"type\":\"mesh3d\"}],\"parcoords\":[{\"line\":{\"colorbar\":{\"outlinewidth\":0,\"ticks\":\"\"}},\"type\":\"parcoords\"}],\"pie\":[{\"automargin\":true,\"type\":\"pie\"}],\"scatter\":[{\"marker\":{\"colorbar\":{\"outlinewidth\":0,\"ticks\":\"\"}},\"type\":\"scatter\"}],\"scatter3d\":[{\"line\":{\"colorbar\":{\"outlinewidth\":0,\"ticks\":\"\"}},\"marker\":{\"colorbar\":{\"outlinewidth\":0,\"ticks\":\"\"}},\"type\":\"scatter3d\"}],\"scattercarpet\":[{\"marker\":{\"colorbar\":{\"outlinewidth\":0,\"ticks\":\"\"}},\"type\":\"scattercarpet\"}],\"scattergeo\":[{\"marker\":{\"colorbar\":{\"outlinewidth\":0,\"ticks\":\"\"}},\"type\":\"scattergeo\"}],\"scattergl\":[{\"marker\":{\"colorbar\":{\"outlinewidth\":0,\"ticks\":\"\"}},\"type\":\"scattergl\"}],\"scattermapbox\":[{\"marker\":{\"colorbar\":{\"outlinewidth\":0,\"ticks\":\"\"}},\"type\":\"scattermapbox\"}],\"scatterpolar\":[{\"marker\":{\"colorbar\":{\"outlinewidth\":0,\"ticks\":\"\"}},\"type\":\"scatterpolar\"}],\"scatterpolargl\":[{\"marker\":{\"colorbar\":{\"outlinewidth\":0,\"ticks\":\"\"}},\"type\":\"scatterpolargl\"}],\"scatterternary\":[{\"marker\":{\"colorbar\":{\"outlinewidth\":0,\"ticks\":\"\"}},\"type\":\"scatterternary\"}],\"surface\":[{\"colorbar\":{\"outlinewidth\":0,\"ticks\":\"\"},\"colorscale\":[[0.0,\"#0d0887\"],[0.1111111111111111,\"#46039f\"],[0.2222222222222222,\"#7201a8\"],[0.3333333333333333,\"#9c179e\"],[0.4444444444444444,\"#bd3786\"],[0.5555555555555556,\"#d8576b\"],[0.6666666666666666,\"#ed7953\"],[0.7777777777777778,\"#fb9f3a\"],[0.8888888888888888,\"#fdca26\"],[1.0,\"#f0f921\"]],\"type\":\"surface\"}],\"table\":[{\"cells\":{\"fill\":{\"color\":\"#EBF0F8\"},\"line\":{\"color\":\"white\"}},\"header\":{\"fill\":{\"color\":\"#C8D4E3\"},\"line\":{\"color\":\"white\"}},\"type\":\"table\"}]},\"layout\":{\"annotationdefaults\":{\"arrowcolor\":\"#2a3f5f\",\"arrowhead\":0,\"arrowwidth\":1},\"autotypenumbers\":\"strict\",\"coloraxis\":{\"colorbar\":{\"outlinewidth\":0,\"ticks\":\"\"}},\"colorscale\":{\"diverging\":[[0,\"#8e0152\"],[0.1,\"#c51b7d\"],[0.2,\"#de77ae\"],[0.3,\"#f1b6da\"],[0.4,\"#fde0ef\"],[0.5,\"#f7f7f7\"],[0.6,\"#e6f5d0\"],[0.7,\"#b8e186\"],[0.8,\"#7fbc41\"],[0.9,\"#4d9221\"],[1,\"#276419\"]],\"sequential\":[[0.0,\"#0d0887\"],[0.1111111111111111,\"#46039f\"],[0.2222222222222222,\"#7201a8\"],[0.3333333333333333,\"#9c179e\"],[0.4444444444444444,\"#bd3786\"],[0.5555555555555556,\"#d8576b\"],[0.6666666666666666,\"#ed7953\"],[0.7777777777777778,\"#fb9f3a\"],[0.8888888888888888,\"#fdca26\"],[1.0,\"#f0f921\"]],\"sequentialminus\":[[0.0,\"#0d0887\"],[0.1111111111111111,\"#46039f\"],[0.2222222222222222,\"#7201a8\"],[0.3333333333333333,\"#9c179e\"],[0.4444444444444444,\"#bd3786\"],[0.5555555555555556,\"#d8576b\"],[0.6666666666666666,\"#ed7953\"],[0.7777777777777778,\"#fb9f3a\"],[0.8888888888888888,\"#fdca26\"],[1.0,\"#f0f921\"]]},\"colorway\":[\"#636efa\",\"#EF553B\",\"#00cc96\",\"#ab63fa\",\"#FFA15A\",\"#19d3f3\",\"#FF6692\",\"#B6E880\",\"#FF97FF\",\"#FECB52\"],\"font\":{\"color\":\"#2a3f5f\"},\"geo\":{\"bgcolor\":\"white\",\"lakecolor\":\"white\",\"landcolor\":\"#E5ECF6\",\"showlakes\":true,\"showland\":true,\"subunitcolor\":\"white\"},\"hoverlabel\":{\"align\":\"left\"},\"hovermode\":\"closest\",\"mapbox\":{\"style\":\"light\"},\"paper_bgcolor\":\"white\",\"plot_bgcolor\":\"#E5ECF6\",\"polar\":{\"angularaxis\":{\"gridcolor\":\"white\",\"linecolor\":\"white\",\"ticks\":\"\"},\"bgcolor\":\"#E5ECF6\",\"radialaxis\":{\"gridcolor\":\"white\",\"linecolor\":\"white\",\"ticks\":\"\"}},\"scene\":{\"xaxis\":{\"backgroundcolor\":\"#E5ECF6\",\"gridcolor\":\"white\",\"gridwidth\":2,\"linecolor\":\"white\",\"showbackground\":true,\"ticks\":\"\",\"zerolinecolor\":\"white\"},\"yaxis\":{\"backgroundcolor\":\"#E5ECF6\",\"gridcolor\":\"white\",\"gridwidth\":2,\"linecolor\":\"white\",\"showbackground\":true,\"ticks\":\"\",\"zerolinecolor\":\"white\"},\"zaxis\":{\"backgroundcolor\":\"#E5ECF6\",\"gridcolor\":\"white\",\"gridwidth\":2,\"linecolor\":\"white\",\"showbackground\":true,\"ticks\":\"\",\"zerolinecolor\":\"white\"}},\"shapedefaults\":{\"line\":{\"color\":\"#2a3f5f\"}},\"ternary\":{\"aaxis\":{\"gridcolor\":\"white\",\"linecolor\":\"white\",\"ticks\":\"\"},\"baxis\":{\"gridcolor\":\"white\",\"linecolor\":\"white\",\"ticks\":\"\"},\"bgcolor\":\"#E5ECF6\",\"caxis\":{\"gridcolor\":\"white\",\"linecolor\":\"white\",\"ticks\":\"\"}},\"title\":{\"x\":0.05},\"xaxis\":{\"automargin\":true,\"gridcolor\":\"white\",\"linecolor\":\"white\",\"ticks\":\"\",\"title\":{\"standoff\":15},\"zerolinecolor\":\"white\",\"zerolinewidth\":2},\"yaxis\":{\"automargin\":true,\"gridcolor\":\"white\",\"linecolor\":\"white\",\"ticks\":\"\",\"title\":{\"standoff\":15},\"zerolinecolor\":\"white\",\"zerolinewidth\":2}}},\"xaxis\":{\"anchor\":\"y\",\"domain\":[0.0,1.0],\"title\":{\"text\":\"x\"}},\"yaxis\":{\"anchor\":\"x\",\"domain\":[0.0,1.0],\"title\":{\"text\":\"sum of y\"}},\"legend\":{\"title\":{\"text\":\"color\"},\"tracegroupgap\":0},\"title\":{\"text\":\"Acelera\\u00e7\\u00e3o das vendas em 2010 e 2011\"},\"barmode\":\"relative\"},                        {\"responsive\": true}                    ).then(function(){\n",
       "                            \n",
       "var gd = document.getElementById('d5bdef43-d5ee-4159-8b58-81aee4c84362');\n",
       "var x = new MutationObserver(function (mutations, observer) {{\n",
       "        var display = window.getComputedStyle(gd).display;\n",
       "        if (!display || display === 'none') {{\n",
       "            console.log([gd, 'removed!']);\n",
       "            Plotly.purge(gd);\n",
       "            observer.disconnect();\n",
       "        }}\n",
       "}});\n",
       "\n",
       "// Listen for the removal of the full notebook cells\n",
       "var notebookContainer = gd.closest('#notebook-container');\n",
       "if (notebookContainer) {{\n",
       "    x.observe(notebookContainer, {childList: true});\n",
       "}}\n",
       "\n",
       "// Listen for the clearing of the current output cell\n",
       "var outputEl = gd.closest('.output');\n",
       "if (outputEl) {{\n",
       "    x.observe(outputEl, {childList: true});\n",
       "}}\n",
       "\n",
       "                        })                };                });            </script>        </div>"
      ]
     },
     "metadata": {},
     "output_type": "display_data"
    }
   ],
   "source": [
    "px.histogram(x=df_vendas_filtro['mes'], y=df_vendas_filtro['Aceleracao'],\n",
    "           color=df_vendas_filtro['ano'], title='Aceleração das vendas em 2010 e 2011')"
   ]
  }
 ],
 "metadata": {
  "kernelspec": {
   "display_name": "Python 3 (ipykernel)",
   "language": "python",
   "name": "python3"
  },
  "language_info": {
   "codemirror_mode": {
    "name": "ipython",
    "version": 3
   },
   "file_extension": ".py",
   "mimetype": "text/x-python",
   "name": "python",
   "nbconvert_exporter": "python",
   "pygments_lexer": "ipython3",
   "version": "3.9.12"
  }
 },
 "nbformat": 4,
 "nbformat_minor": 5
}
